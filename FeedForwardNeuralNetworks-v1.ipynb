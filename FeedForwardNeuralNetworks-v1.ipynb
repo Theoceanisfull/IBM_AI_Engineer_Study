{
 "cells": [
  {
   "cell_type": "markdown",
   "id": "88940a8b-1030-4e5b-b4a8-819234760cb6",
   "metadata": {},
   "source": [
    "<p style=\"text-align:center\">\n",
    "    <a href=\"https://skills.network\" target=\"_blank\">\n",
    "    <img src=\"https://cf-courses-data.s3.us.cloud-object-storage.appdomain.cloud/assets/logos/SN_web_lightmode.png\" width=\"200\" alt=\"Skills Network Logo\">\n",
    "    </a>\n",
    "</p>\n"
   ]
  },
  {
   "cell_type": "markdown",
   "id": "80cf199f-0779-49d9-a5af-8875c9838c1c",
   "metadata": {},
   "source": [
    "# **Building and Training a Feedforward Neural Network for Language Modeling**\n",
    "\n",
    "Estimated time needed: **60** minutes\n",
    "\n",
    "This project explores the use of Feedforward Neural Networks (FNNs) in language modeling. The primary objective is to build a neural network that learns word relationships and generates meaningful text sequences. The implementation is done using PyTorch, covering key aspects of Natural Language Processing (NLP), such as:\n",
    "* Tokenization & Indexing: Converting text into numerical representations.\n",
    "* Embedding Layers: Mapping words to dense vector representations for efficient learning.\n",
    "* Context-Target Pair Generation (N-grams): Structuring training data for sequence prediction.\n",
    "* Multi-Class Neural Network: Designing a model to predict the next word in a sequence.\n",
    "\n",
    "The training process includes optimizing the model with loss functions and backpropagation techniques to improve accuracy and coherence in text generation. By the end of the project, you will have a working FNN-based language model capable of generating text sequences.\n",
    "<div style=\"text-align:center;\">\n",
    "    <img src=\"https://cf-courses-data.s3.us.cloud-object-storage.appdomain.cloud/IBM-GPXX0WSVEN/song%20%281%29.png\" alt=\"Image Description\">\n",
    "</div>\n"
   ]
  },
  {
   "cell_type": "markdown",
   "id": "1f409586-8c72-4318-9e8c-da8e810f1f9d",
   "metadata": {},
   "source": [
    "# __Table of Contents__\n",
    "\n",
    "<ol>\n",
    "    <li><a href=\"#Objectives\">Objectives</a></li>\n",
    "    <li>\n",
    "        <a href=\"#Setup\">Setup</a>\n",
    "        <ol>\n",
    "            <li><a href=\"#Installing-required-libraries\">Installing required libraries</a></li>\n",
    "            <li><a href=\"#Importing-required-libraries\">Importing required libraries</a></li>\n",
    "            <li><a href=\"#Defining-helper-functions\">Defining helper functions</a></li>\n",
    "        </ol>\n",
    "    </li>\n",
    "    <li>\n",
    "       <a href=\"#Feedforward-Neural-Networks-(FNNs)-for-language-models\">Feedforward Neural Networks (FNNs) for language models</a></li>\n",
    "        <ol>\n",
    "            <li><a href=\"#Tokenization-for-FNN\">Tokenization for FNN</a></li>\n",
    "            <li><a href=\"#Indexing\">Indexing</a></li>\n",
    "            <li><a href=\"#Embedding-layers\">Embedding layers</a></li>\n",
    "        </ol>\n",
    "</li>\n",
    "    <li><a href=\"#Generating-context-target-pairs-(n-grams)\">Generating context-target pairs (n-grams)</a></li>\n",
    "    <ol>\n",
    "        <li><a href=\"#Batch-function\">Batch function</a></li>\n",
    "        <li><a href=\"#Multi-class-neural-network\">Multi-class neural network</a></li>\n",
    "    </ol>\n",
    "    <li><a href=\"#Training\">Training</a></li>\n",
    "    </li>\n",
    "    <li><a href=\"#Exercises\">Exercises</a></li>\n",
    "    </li>\n",
    "</ol>\n"
   ]
  },
  {
   "cell_type": "markdown",
   "id": "79b52a70-c34e-4607-bf0b-94f43d6b17ff",
   "metadata": {},
   "source": [
    "---\n"
   ]
  },
  {
   "cell_type": "markdown",
   "id": "59c0e046-059c-4747-819d-2a6fb6076f09",
   "metadata": {},
   "source": [
    "# Objectives\n",
    "\n",
    "After completing this lab, you will be able to:\n",
    "\n",
    " - Implement a feedforward neural network using the PyTorch framework, including embedding layers, for language modeling tasks.\n",
    " - Fine-tune the output layer of the neural network for optimal performance in text generation.\n",
    " - Apply various training strategies and fundamental Natural Language Processing (NLP) techniques, such as tokenization and sequence analysis, to improve text generation.\n"
   ]
  },
  {
   "cell_type": "markdown",
   "id": "cc519a64-ae84-4d29-b2b8-e0a7bf80842c",
   "metadata": {},
   "source": [
    "---\n"
   ]
  },
  {
   "cell_type": "markdown",
   "id": "958e0271-d4ee-4ac9-8fff-c6d65783687d",
   "metadata": {},
   "source": [
    "# Setup\n"
   ]
  },
  {
   "cell_type": "markdown",
   "id": "e3189c4b-1a61-4978-b23f-692920b5ebac",
   "metadata": {},
   "source": [
    "For this lab, you will use the following libraries:\n",
    "\n",
    "*   [`pandas`](https://pandas.pydata.org/?utm_medium=Exinfluencer&utm_source=Exinfluencer&utm_content=000026UJ&utm_term=10006555&utm_id=NA-SkillsNetwork-Channel-SkillsNetworkCoursesIBMML0187ENSkillsNetwork31430127-2021-01-01) for managing the data.\n",
    "*   [`numpy`](https://numpy.org/?utm_medium=Exinfluencer&utm_source=Exinfluencer&utm_content=000026UJ&utm_term=10006555&utm_id=NA-SkillsNetwork-Channel-SkillsNetworkCoursesIBMML0187ENSkillsNetwork31430127-2021-01-01) for mathematical operations.\n",
    "*   [`sklearn`](https://scikit-learn.org/stable/?utm_medium=Exinfluencer&utm_source=Exinfluencer&utm_content=000026UJ&utm_term=10006555&utm_id=NA-SkillsNetwork-Channel-SkillsNetworkCoursesIBMML0187ENSkillsNetwork31430127-2021-01-01) for machine learning and machine-learning-pipeline related functions.\n",
    "*   [`seaborn`](https://seaborn.pydata.org/?utm_medium=Exinfluencer&utm_source=Exinfluencer&utm_content=000026UJ&utm_term=10006555&utm_id=NA-SkillsNetwork-Channel-SkillsNetworkCoursesIBMML0187ENSkillsNetwork31430127-2021-01-01) for visualizing the data.\n",
    "*   [`matplotlib`](https://matplotlib.org/?utm_medium=Exinfluencer&utm_source=Exinfluencer&utm_content=000026UJ&utm_term=10006555&utm_id=NA-SkillsNetwork-Channel-SkillsNetworkCoursesIBMML0187ENSkillsNetwork31430127-2021-01-01) for additional plotting tools.\n"
   ]
  },
  {
   "cell_type": "markdown",
   "id": "aace2687-d041-4e3a-ac9b-c1ca26219256",
   "metadata": {},
   "source": [
    "### Installing required libraries\n",
    "\n",
    "All the required libraries are pre-installed in the Skills Network Labs environment. However, if you run this notebook commands in a different Jupyter environment (e.g. Watson Studio or Ananconda), you will need to install these libraries using the code cell below.\n",
    "\n",
    "<h2 style=\"color:red;\">After installing the libraries below please RESTART THE KERNEL and run all cells.</h2>\n"
   ]
  },
  {
   "cell_type": "code",
   "execution_count": 1,
   "id": "b1155ed8-ec2e-46c8-95f8-a2ba0af1296b",
   "metadata": {},
   "outputs": [],
   "source": [
    "%%capture\n",
    "!pip install nltk\n",
    "!pip install scikit-learn\n",
    "!pip install torch==2.6.0\n",
    "!pip install torchtext==0.17.2\n",
    "!pip install matplotlib\n",
    "!pip install pandas\n",
    "!pip install numpy==1.26.4"
   ]
  },
  {
   "cell_type": "markdown",
   "id": "ffaea88a-b318-4268-b730-5e58c860402e",
   "metadata": {},
   "source": [
    "__Note__: The following required libraries are __not__ pre-installed in the Skills Network Labs environment. __You will need to run the following cell__ to install them:\n"
   ]
  },
  {
   "cell_type": "markdown",
   "id": "9da581ef-a910-4159-9e27-6dc9af90866a",
   "metadata": {},
   "source": [
    "### Importing required libraries\n",
    "\n",
    "_It is recommended that you import all required libraries in one place (here):_\n"
   ]
  },
  {
   "cell_type": "code",
   "execution_count": 2,
   "id": "b0a82bf4-ed4a-4ff8-9ad1-c6dc6c4b51a9",
   "metadata": {},
   "outputs": [],
   "source": [
    "%%capture\n",
    "import warnings\n",
    "from tqdm import tqdm\n",
    "\n",
    "warnings.simplefilter('ignore')\n",
    "import time\n",
    "from collections import OrderedDict\n",
    "\n",
    "import re\n",
    "\n",
    "import numpy as np\n",
    "import matplotlib.pyplot as plt\n",
    "import pandas as pd\n",
    "import random\n",
    "\n",
    "import nltk\n",
    "nltk.download('punkt')\n",
    "nltk.download('punkt_tab')\n",
    "\n",
    "import torch\n",
    "import torch.nn as nn\n",
    "import torch.nn.functional as F\n",
    "import torch.optim as optim\n",
    "import string\n",
    "import time\n",
    "from torchtext.data.utils import get_tokenizer\n",
    "from torchtext.vocab import build_vocab_from_iterator\n",
    "from nltk.tokenize import word_tokenize\n",
    "\n",
    "import matplotlib.pyplot as plt\n",
    "from sklearn.manifold import TSNE\n",
    "\n",
    "# You can also use this section to suppress warnings generated by your code:\n",
    "def warn(*args, **kwargs):\n",
    "    pass\n",
    "import warnings\n",
    "warnings.warn = warn\n",
    "%capture"
   ]
  },
  {
   "cell_type": "markdown",
   "id": "3ffa0f5e-bfdd-4622-8aba-7f9ee448b150",
   "metadata": {},
   "source": [
    "---\n"
   ]
  },
  {
   "cell_type": "markdown",
   "id": "5093805c-38f1-47c7-a29d-d686427ba835",
   "metadata": {},
   "source": [
    "## Feedforward Neural Networks (FNNs) for language models\n",
    "\n",
    "FNNs, or Multi-Layer Perceptrons, serve as the foundational components for comprehending neural networks in natural language processing (NLP). In NLP tasks, FNNs process textual data by transforming it into numerical vectors known as embeddings. Subsequently, these embeddings are input to the network to predict language facets, such as the upcoming word in a sentence or the sentiment of a text.\n",
    "\n",
    "Let's consider the following song lyrics for our analysis.\n"
   ]
  },
  {
   "cell_type": "code",
   "execution_count": 3,
   "id": "aacd21bf-6852-4ef8-b843-b1c01e054df1",
   "metadata": {},
   "outputs": [],
   "source": [
    "song= \"\"\"We are no strangers to love\n",
    "You know the rules and so do I\n",
    "A full commitments what Im thinking of\n",
    "You wouldnt get this from any other guy\n",
    "I just wanna tell you how Im feeling\n",
    "Gotta make you understand\n",
    "Never gonna give you up\n",
    "Never gonna let you down\n",
    "Never gonna run around and desert you\n",
    "Never gonna make you cry\n",
    "Never gonna say goodbye\n",
    "Never gonna tell a lie and hurt you\n",
    "Weve known each other for so long\n",
    "Your hearts been aching but youre too shy to say it\n",
    "Inside we both know whats been going on\n",
    "We know the game and were gonna play it\n",
    "And if you ask me how Im feeling\n",
    "Dont tell me youre too blind to see\n",
    "Never gonna give you up\n",
    "Never gonna let you down\n",
    "Never gonna run around and desert you\n",
    "Never gonna make you cry\n",
    "Never gonna say goodbye\n",
    "Never gonna tell a lie and hurt you\n",
    "Never gonna give you up\n",
    "Never gonna let you down\n",
    "Never gonna run around and desert you\n",
    "Never gonna make you cry\n",
    "Never gonna say goodbye\n",
    "Never gonna tell a lie and hurt you\n",
    "Weve known each other for so long\n",
    "Your hearts been aching but youre too shy to say it\n",
    "Inside we both know whats been going on\n",
    "We know the game and were gonna play it\n",
    "I just wanna tell you how Im feeling\n",
    "Gotta make you understand\n",
    "Never gonna give you up\n",
    "Never gonna let you down\n",
    "Never gonna run around and desert you\n",
    "Never gonna make you cry\n",
    "Never gonna say goodbye\n",
    "Never gonna tell a lie and hurt you\n",
    "Never gonna give you up\n",
    "Never gonna let you down\n",
    "Never gonna run around and desert you\n",
    "Never gonna make you cry\n",
    "Never gonna say goodbye\n",
    "Never gonna tell a lie and hurt you\n",
    "Never gonna give you up\n",
    "Never gonna let you down\n",
    "Never gonna run around and desert you\n",
    "Never gonna make you cry\n",
    "Never gonna say goodbye\n",
    "Never gonna tell a lie and hurt you\"\"\""
   ]
  },
  {
   "cell_type": "markdown",
   "id": "ad84ab97-a38e-49c9-bb9a-578a896ec561",
   "metadata": {},
   "source": [
    " ### Tokenization for FNN\n"
   ]
  },
  {
   "cell_type": "markdown",
   "id": "cb6316e4-d981-4f36-8aa5-dae175717d7d",
   "metadata": {},
   "source": [
    " This PyTorch function is used to obtain a tokenizer for text.\n"
   ]
  },
  {
   "cell_type": "code",
   "execution_count": 16,
   "id": "4589618d-a310-4acb-a22d-a621141d1c67",
   "metadata": {},
   "outputs": [
    {
     "data": {
      "text/plain": [
       "['we',\n",
       " 'are',\n",
       " 'no',\n",
       " 'strangers',\n",
       " 'to',\n",
       " 'love',\n",
       " 'you',\n",
       " 'know',\n",
       " 'the',\n",
       " 'rules',\n",
       " 'and',\n",
       " 'so',\n",
       " 'do',\n",
       " 'i',\n",
       " 'a',\n",
       " 'full',\n",
       " 'commitments',\n",
       " 'what',\n",
       " 'im',\n",
       " 'thinking',\n",
       " 'of',\n",
       " 'you',\n",
       " 'wouldnt',\n",
       " 'get',\n",
       " 'this',\n",
       " 'from',\n",
       " 'any',\n",
       " 'other',\n",
       " 'guy',\n",
       " 'i',\n",
       " 'just',\n",
       " 'wanna',\n",
       " 'tell',\n",
       " 'you',\n",
       " 'how',\n",
       " 'im',\n",
       " 'feeling',\n",
       " 'gotta',\n",
       " 'make',\n",
       " 'you',\n",
       " 'understand',\n",
       " 'never',\n",
       " 'gonna',\n",
       " 'give',\n",
       " 'you',\n",
       " 'up',\n",
       " 'never',\n",
       " 'gonna',\n",
       " 'let',\n",
       " 'you',\n",
       " 'down',\n",
       " 'never',\n",
       " 'gonna',\n",
       " 'run',\n",
       " 'around',\n",
       " 'and',\n",
       " 'desert',\n",
       " 'you',\n",
       " 'never',\n",
       " 'gonna',\n",
       " 'make',\n",
       " 'you',\n",
       " 'cry',\n",
       " 'never',\n",
       " 'gonna',\n",
       " 'say',\n",
       " 'goodbye',\n",
       " 'never',\n",
       " 'gonna',\n",
       " 'tell',\n",
       " 'a',\n",
       " 'lie',\n",
       " 'and',\n",
       " 'hurt',\n",
       " 'you',\n",
       " 'weve',\n",
       " 'known',\n",
       " 'each',\n",
       " 'other',\n",
       " 'for',\n",
       " 'so',\n",
       " 'long',\n",
       " 'your',\n",
       " 'hearts',\n",
       " 'been',\n",
       " 'aching',\n",
       " 'but',\n",
       " 'youre',\n",
       " 'too',\n",
       " 'shy',\n",
       " 'to',\n",
       " 'say',\n",
       " 'it',\n",
       " 'inside',\n",
       " 'we',\n",
       " 'both',\n",
       " 'know',\n",
       " 'whats',\n",
       " 'been',\n",
       " 'going',\n",
       " 'on',\n",
       " 'we',\n",
       " 'know',\n",
       " 'the',\n",
       " 'game',\n",
       " 'and',\n",
       " 'were',\n",
       " 'gonna',\n",
       " 'play',\n",
       " 'it',\n",
       " 'and',\n",
       " 'if',\n",
       " 'you',\n",
       " 'ask',\n",
       " 'me',\n",
       " 'how',\n",
       " 'im',\n",
       " 'feeling',\n",
       " 'dont',\n",
       " 'tell',\n",
       " 'me',\n",
       " 'youre',\n",
       " 'too',\n",
       " 'blind',\n",
       " 'to',\n",
       " 'see',\n",
       " 'never',\n",
       " 'gonna',\n",
       " 'give',\n",
       " 'you',\n",
       " 'up',\n",
       " 'never',\n",
       " 'gonna',\n",
       " 'let',\n",
       " 'you',\n",
       " 'down',\n",
       " 'never',\n",
       " 'gonna',\n",
       " 'run',\n",
       " 'around',\n",
       " 'and',\n",
       " 'desert',\n",
       " 'you',\n",
       " 'never',\n",
       " 'gonna',\n",
       " 'make',\n",
       " 'you',\n",
       " 'cry',\n",
       " 'never',\n",
       " 'gonna',\n",
       " 'say',\n",
       " 'goodbye',\n",
       " 'never',\n",
       " 'gonna',\n",
       " 'tell',\n",
       " 'a',\n",
       " 'lie',\n",
       " 'and',\n",
       " 'hurt',\n",
       " 'you',\n",
       " 'never',\n",
       " 'gonna',\n",
       " 'give',\n",
       " 'you',\n",
       " 'up',\n",
       " 'never',\n",
       " 'gonna',\n",
       " 'let',\n",
       " 'you',\n",
       " 'down',\n",
       " 'never',\n",
       " 'gonna',\n",
       " 'run',\n",
       " 'around',\n",
       " 'and',\n",
       " 'desert',\n",
       " 'you',\n",
       " 'never',\n",
       " 'gonna',\n",
       " 'make',\n",
       " 'you',\n",
       " 'cry',\n",
       " 'never',\n",
       " 'gonna',\n",
       " 'say',\n",
       " 'goodbye',\n",
       " 'never',\n",
       " 'gonna',\n",
       " 'tell',\n",
       " 'a',\n",
       " 'lie',\n",
       " 'and',\n",
       " 'hurt',\n",
       " 'you',\n",
       " 'weve',\n",
       " 'known',\n",
       " 'each',\n",
       " 'other',\n",
       " 'for',\n",
       " 'so',\n",
       " 'long',\n",
       " 'your',\n",
       " 'hearts',\n",
       " 'been',\n",
       " 'aching',\n",
       " 'but',\n",
       " 'youre',\n",
       " 'too',\n",
       " 'shy',\n",
       " 'to',\n",
       " 'say',\n",
       " 'it',\n",
       " 'inside',\n",
       " 'we',\n",
       " 'both',\n",
       " 'know',\n",
       " 'whats',\n",
       " 'been',\n",
       " 'going',\n",
       " 'on',\n",
       " 'we',\n",
       " 'know',\n",
       " 'the',\n",
       " 'game',\n",
       " 'and',\n",
       " 'were',\n",
       " 'gonna',\n",
       " 'play',\n",
       " 'it',\n",
       " 'i',\n",
       " 'just',\n",
       " 'wanna',\n",
       " 'tell',\n",
       " 'you',\n",
       " 'how',\n",
       " 'im',\n",
       " 'feeling',\n",
       " 'gotta',\n",
       " 'make',\n",
       " 'you',\n",
       " 'understand',\n",
       " 'never',\n",
       " 'gonna',\n",
       " 'give',\n",
       " 'you',\n",
       " 'up',\n",
       " 'never',\n",
       " 'gonna',\n",
       " 'let',\n",
       " 'you',\n",
       " 'down',\n",
       " 'never',\n",
       " 'gonna',\n",
       " 'run',\n",
       " 'around',\n",
       " 'and',\n",
       " 'desert',\n",
       " 'you',\n",
       " 'never',\n",
       " 'gonna',\n",
       " 'make',\n",
       " 'you',\n",
       " 'cry',\n",
       " 'never',\n",
       " 'gonna',\n",
       " 'say',\n",
       " 'goodbye',\n",
       " 'never',\n",
       " 'gonna',\n",
       " 'tell',\n",
       " 'a',\n",
       " 'lie',\n",
       " 'and',\n",
       " 'hurt',\n",
       " 'you',\n",
       " 'never',\n",
       " 'gonna',\n",
       " 'give',\n",
       " 'you',\n",
       " 'up',\n",
       " 'never',\n",
       " 'gonna',\n",
       " 'let',\n",
       " 'you',\n",
       " 'down',\n",
       " 'never',\n",
       " 'gonna',\n",
       " 'run',\n",
       " 'around',\n",
       " 'and',\n",
       " 'desert',\n",
       " 'you',\n",
       " 'never',\n",
       " 'gonna',\n",
       " 'make',\n",
       " 'you',\n",
       " 'cry',\n",
       " 'never',\n",
       " 'gonna',\n",
       " 'say',\n",
       " 'goodbye',\n",
       " 'never',\n",
       " 'gonna',\n",
       " 'tell',\n",
       " 'a',\n",
       " 'lie',\n",
       " 'and',\n",
       " 'hurt',\n",
       " 'you',\n",
       " 'never',\n",
       " 'gonna',\n",
       " 'give',\n",
       " 'you',\n",
       " 'up',\n",
       " 'never',\n",
       " 'gonna',\n",
       " 'let',\n",
       " 'you',\n",
       " 'down',\n",
       " 'never',\n",
       " 'gonna',\n",
       " 'run',\n",
       " 'around',\n",
       " 'and',\n",
       " 'desert',\n",
       " 'you',\n",
       " 'never',\n",
       " 'gonna',\n",
       " 'make',\n",
       " 'you',\n",
       " 'cry',\n",
       " 'never',\n",
       " 'gonna',\n",
       " 'say',\n",
       " 'goodbye',\n",
       " 'never',\n",
       " 'gonna',\n",
       " 'tell',\n",
       " 'a',\n",
       " 'lie',\n",
       " 'and',\n",
       " 'hurt',\n",
       " 'you']"
      ]
     },
     "metadata": {},
     "output_type": "display_data"
    },
    {
     "name": "stdout",
     "output_type": "stream",
     "text": [
      "343\n"
     ]
    }
   ],
   "source": [
    "tokenizer = get_tokenizer(\"basic_english\")\n",
    "tokens=tokenizer(song)\n",
    "display(tokens)\n",
    "\n",
    "def count_tokens(tokens):\n",
    "    token_count = 0\n",
    "    for token in tokens:\n",
    "        token_count += 1\n",
    "    return token_count\n",
    "print(token_count)\n",
    "\n",
    "    \n"
   ]
  },
  {
   "cell_type": "code",
   "execution_count": 17,
   "id": "9609c525-fd92-494b-824e-274c591bbebf",
   "metadata": {},
   "outputs": [],
   "source": [
    "def preprocess_string(s):\n",
    "    \"\"\"\n",
    "    Preprocesses a given string by performing the following steps:\n",
    "    \n",
    "    1. Removes all non-word characters (excluding letters and numbers).\n",
    "    2. Removes all whitespace characters.\n",
    "    3. Removes all numeric digits.\n",
    "\n",
    "    Parameters:\n",
    "    s (str): The input string to be cleaned.\n",
    "\n",
    "    Returns:\n",
    "    str: The processed string with only alphabetic characters, no spaces, and no digits.\n",
    "    \"\"\"\n",
    "\n",
    "    # Remove all non-word characters (everything except letters and numbers)\n",
    "    # \\w matches any word character (letters, numbers, and underscores)\n",
    "    # \\s matches any whitespace characters\n",
    "    # ^ inside [] negates the selection, so [^\\w\\s] matches anything that's NOT a word character or whitespace.\n",
    "    s = re.sub(r\"[^\\w\\s]\", '', s)\n",
    "\n",
    "    # Remove all whitespace characters (spaces, tabs, newlines)\n",
    "    # \\s+ matches one or more whitespace characters.\n",
    "    s = re.sub(r\"\\s+\", '', s)\n",
    "\n",
    "    # Remove all digits (0-9)\n",
    "    # \\d matches any digit character.\n",
    "    s = re.sub(r\"\\d\", '', s)\n",
    "\n",
    "    return s"
   ]
  },
  {
   "cell_type": "code",
   "execution_count": 18,
   "id": "d84c7fbf-6596-4b0c-b52c-d79f9451571b",
   "metadata": {},
   "outputs": [],
   "source": [
    "def preprocess(words):\n",
    "    \"\"\"\n",
    "    Preprocesses a given text by tokenizing it, cleaning individual words, and \n",
    "    converting them to lowercase while removing empty or punctuation tokens.\n",
    "\n",
    "    Steps:\n",
    "    1. Tokenization: Splits the input text into individual word tokens.\n",
    "    2. Cleaning: Applies `preprocess_string()` to remove non-word characters, \n",
    "       spaces, and digits from each token.\n",
    "    3. Normalization: Converts all tokens to lowercase.\n",
    "    4. Filtering: Removes empty strings and punctuation tokens.\n",
    "\n",
    "    Parameters:\n",
    "    words (str): The input text to be tokenized and preprocessed.\n",
    "\n",
    "    Returns:\n",
    "    list: A list of cleaned, lowercase tokens.\n",
    "    \"\"\"\n",
    "\n",
    "    # Tokenize the input text into words\n",
    "    tokens = word_tokenize(words)\n",
    "\n",
    "    # Apply preprocessing to each token (removes unwanted characters)\n",
    "    tokens = [preprocess_string(w) for w in tokens]\n",
    "\n",
    "    # Convert tokens to lowercase and remove empty strings or punctuation\n",
    "    return [w.lower() for w in tokens if len(w) != 0 and w not in string.punctuation]\n",
    "\n",
    "# Example usage:\n",
    "tokens = preprocess(song)  # Preprocess the text in 'song'"
   ]
  },
  {
   "cell_type": "markdown",
   "id": "9de2f27a-c077-4146-b593-2f030966343c",
   "metadata": {},
   "source": [
    "### Indexing\n",
    "\n",
    "TorchText provides tools to tokenize text into individual words (tokens) and build a vocabulary, which maps tokens to unique integer indexes. This is a crucial step in preparing text data for  machine learning models that require numerical input.\n"
   ]
  },
  {
   "cell_type": "code",
   "execution_count": 19,
   "id": "36954a72-8d06-43c0-b27c-ee171193dddf",
   "metadata": {},
   "outputs": [],
   "source": [
    "def tokenizetext(song):\n",
    "    \"\"\"\n",
    "    Tokenizes the input text (song) and builds a vocabulary from the tokens.\n",
    "\n",
    "    Steps:\n",
    "    1. Tokenization: The function splits the input text into words and applies \n",
    "       a tokenizer function to each word.\n",
    "    2. Vocabulary Building: Constructs a vocabulary from the tokenized words,\n",
    "       including a special \"<unk>\" token to handle out-of-vocabulary words.\n",
    "    3. Default Indexing: Sets the default index for unknown words, ensuring \n",
    "       that any unseen tokens are mapped to \"<unk>\".\n",
    "\n",
    "    Parameters:\n",
    "    song (str): The input text (song lyrics) to be tokenized and processed.\n",
    "\n",
    "    Returns:\n",
    "    vocab (Vocab): A vocabulary object mapping tokens to their corresponding indices.\n",
    "    \"\"\"\n",
    "\n",
    "    # Tokenize the text\n",
    "    # Split the input text into words and apply the tokenizer function to each word.\n",
    "    # The 'map' function ensures that each word is tokenized properly.\n",
    "    tokenized_song = map(tokenizer, song.split())\n",
    "\n",
    "    # Build vocabulary from tokenized text\n",
    "    # The function `build_vocab_from_iterator` constructs a vocabulary by iterating \n",
    "    # over the tokenized words. The special token \"<unk>\" is added to handle words \n",
    "    # that are not present in the vocabulary.\n",
    "    vocab = build_vocab_from_iterator(tokenized_song, specials=[\"<unk>\"])\n",
    "\n",
    "    # Set the default index for unknown words\n",
    "    # The default index is set to the index of \"<unk>\" so that any word not found \n",
    "    # in the vocabulary is mapped to this token, preventing errors during lookup.\n",
    "    vocab.set_default_index(vocab[\"<unk>\"])\n",
    "\n",
    "    return vocab\n"
   ]
  },
  {
   "cell_type": "markdown",
   "id": "ce469f8b-adc9-4ab1-8abf-35a55bf73a94",
   "metadata": {},
   "source": [
    "Convert the tokens to indices by applying the function as shown here:\n"
   ]
  },
  {
   "cell_type": "code",
   "execution_count": 20,
   "id": "92abcf7e-90c5-4703-b2c4-30cd03a0fb27",
   "metadata": {},
   "outputs": [
    {
     "data": {
      "text/plain": [
       "[21, 58, 70, 74, 25, 69, 2, 20, 31, 72]"
      ]
     },
     "execution_count": 20,
     "metadata": {},
     "output_type": "execute_result"
    }
   ],
   "source": [
    "vocab=tokenizetext(song)\n",
    "vocab(tokens[0:10])"
   ]
  },
  {
   "cell_type": "code",
   "execution_count": 21,
   "id": "4cd32017-9d7b-46bf-ba41-281aef742b48",
   "metadata": {},
   "outputs": [
    {
     "data": {
      "text/plain": [
       "['we', 'are', 'no', 'strangers', 'to', 'love', 'you', 'know', 'the', 'rules']"
      ]
     },
     "execution_count": 21,
     "metadata": {},
     "output_type": "execute_result"
    }
   ],
   "source": [
    "tokens[0:10]"
   ]
  },
  {
   "cell_type": "markdown",
   "id": "b7e37490-bda3-4a2e-b7f8-13f820406e17",
   "metadata": {},
   "source": [
    "\n",
    "\n",
    "Write a text function that converts raw text into indexes.\n"
   ]
  },
  {
   "cell_type": "code",
   "execution_count": 22,
   "id": "7b4a329a-7960-4108-9023-b35b7eabff15",
   "metadata": {},
   "outputs": [
    {
     "data": {
      "text/plain": [
       "[21, 58, 70, 74, 25, 69, 2, 20, 31, 72]"
      ]
     },
     "execution_count": 22,
     "metadata": {},
     "output_type": "execute_result"
    }
   ],
   "source": [
    "text_pipeline = lambda x: vocab(tokenizer(x))\n",
    "text_pipeline(song)[0:10]"
   ]
  },
  {
   "cell_type": "markdown",
   "id": "5e1b5994-3977-4c44-9e7f-c986f63a3d82",
   "metadata": {},
   "source": [
    "\n",
    "Find the word corresponding to an index using the```get_itos()```method. The result is a list where the index of the list corresponds to a word.\n"
   ]
  },
  {
   "cell_type": "code",
   "execution_count": 23,
   "id": "858e8c77-9584-4c2c-9e99-686a65a41202",
   "metadata": {},
   "outputs": [
    {
     "data": {
      "text/plain": [
       "'are'"
      ]
     },
     "execution_count": 23,
     "metadata": {},
     "output_type": "execute_result"
    }
   ],
   "source": [
    "index_to_token = vocab.get_itos()\n",
    "index_to_token[58]"
   ]
  },
  {
   "cell_type": "markdown",
   "id": "75d8cfcf-5047-41c3-b868-22bbcfcba780",
   "metadata": {},
   "source": [
    "## Embedding layers\n",
    "\n",
    "An embedding layer is a crucial element in natural language processing (NLP) and neural networks designed for sequential data. It serves to convert categorical variables, like words or discrete indexes representing tokens, into continuous vectors. This transformation facilitates training and enables the network to learn meaningful relationships among words.\n",
    "\n",
    "Let's consider a simple example involving a vocabulary of words \n",
    "- **Vocabulary**: {apple, banana, orange, pear}\n",
    "\n",
    "Each word in your vocabulary has a unique index assigned to it: \n",
    "- **Indices**: {0, 1, 2, 3}\n",
    "\n",
    "When using an embedding layer, you will initialize random continuous vectors for each index. For instance, the embedding vectors might look like:\n",
    "\n",
    "- Vector for index 0 (apple): [0.2, 0.8]\n",
    "- Vector for index 1 (banana): [0.6, -0.5]\n",
    "- Vector for index 2 (orange): [-0.3, 0.7]\n",
    "- Vector for index 3 (pear): [0.1, 0.4]\n",
    "In PyTorch, you can create an embedding layer.\n"
   ]
  },
  {
   "cell_type": "code",
   "execution_count": 25,
   "id": "05b17004-41df-47ef-9662-4b58da4edec2",
   "metadata": {},
   "outputs": [],
   "source": [
    "def genembedding(vocab):\n",
    "    \"\"\"\n",
    "    Generates an embedding layer for the given vocabulary.\n",
    "\n",
    "    The embedding layer transforms words into dense vector representations, \n",
    "    allowing the model to learn semantic relationships between words.\n",
    "\n",
    "    Parameters:\n",
    "    vocab (Vocab): The vocabulary object containing unique words and their indices.\n",
    "\n",
    "    Returns:\n",
    "    nn.Embedding: A PyTorch embedding layer with a specified embedding dimension.\n",
    "    \"\"\"\n",
    "\n",
    "    # Define the embedding dimension (size of word vectors)\n",
    "    embedding_dim = 20  # Each word will be represented as a 20-dimensional vector\n",
    "\n",
    "    # Get the vocabulary size (number of unique words in the vocabulary)\n",
    "    vocab_size = len(vocab)\n",
    "\n",
    "    # Create an embedding layer\n",
    "    # The nn.Embedding module maps word indices to dense vector representations.\n",
    "    # It takes vocab_size as the number of words and embedding_dim as the vector size.\n",
    "    embeddings = nn.Embedding(vocab_size, embedding_dim)\n",
    "\n",
    "    return embeddings"
   ]
  },
  {
   "cell_type": "markdown",
   "id": "01b3c674-21e0-4fba-adc3-049f298640c6",
   "metadata": {},
   "source": [
    "\n",
    "**Embeddings**: Obtain the embedding for the first word with index 0 or 1. Don't forget that you have to convert the input into a tensor. The embeddings are initially initialized randomly, but as the model undergoes training, words with similar meanings gradually come to cluster closer together\n"
   ]
  },
  {
   "cell_type": "code",
   "execution_count": 26,
   "id": "1d136ccf-ad0f-4aba-bb85-a45c47bd2afa",
   "metadata": {},
   "outputs": [
    {
     "name": "stdout",
     "output_type": "stream",
     "text": [
      "word <unk>\n",
      "index 0\n",
      "embedding tensor([ 0.4940, -0.6858, -0.5969, -1.0127,  0.5878, -0.3754,  0.5434, -0.2550,\n",
      "         0.5531,  0.4623,  0.8360, -0.0970,  1.8158,  1.2188,  2.8988, -0.0501,\n",
      "         2.1478, -0.5151, -1.1977, -0.9801], grad_fn=<EmbeddingBackward0>)\n",
      "embedding shape torch.Size([20])\n",
      "word gonna\n",
      "index 1\n",
      "embedding tensor([ 0.8270,  0.7331, -0.8277,  0.9499,  0.2058,  0.0403,  0.1597,  0.8397,\n",
      "        -2.1353,  1.6347, -0.1520, -1.0263,  0.6190, -0.0481,  0.2653,  0.4178,\n",
      "         0.1487, -0.9094,  0.3777,  0.6224], grad_fn=<EmbeddingBackward0>)\n",
      "embedding shape torch.Size([20])\n"
     ]
    }
   ],
   "source": [
    "embeddings=genembedding(vocab)\n",
    "for n in range(2): \n",
    "    embedding=embeddings(torch.tensor(n))\n",
    "    print(\"word\",index_to_token[n])\n",
    "    print(\"index\",n)\n",
    "    print( \"embedding\", embedding)\n",
    "    print(\"embedding shape\", embedding.shape)"
   ]
  },
  {
   "cell_type": "markdown",
   "id": "631be104-7ae5-4088-82aa-e4668c4f8b8c",
   "metadata": {},
   "source": [
    "These vectors will serve as inputs for the next layer.\n"
   ]
  },
  {
   "cell_type": "markdown",
   "id": "b35a6aa6-ae6b-4770-a213-e260c69c5400",
   "metadata": {},
   "source": [
    "### Generating context-target pairs (n-grams)\n",
    "\n",
    "Organize words within a variable-size context using the following approach: Each word is denoted by 'i'. \n",
    "To establish the context, simply subtract 'j'. The size of the context is determined by the value of``CONTEXT_SIZE``.\n"
   ]
  },
  {
   "cell_type": "code",
   "execution_count": 27,
   "id": "66de3230-f5c2-4ddf-903f-2434e4130e7e",
   "metadata": {},
   "outputs": [],
   "source": [
    "# Define the context size for generating n-grams\n",
    "CONTEXT_SIZE = 2  # The number of previous words used to predict the next word\n",
    "\n",
    "def genngrams(tokens):\n",
    "    \"\"\"\n",
    "    Generates n-grams from a list of tokens, where each n-gram consists of a \n",
    "    context (previous words) and a target (next word).\n",
    "\n",
    "    The function constructs a list of tuples where:\n",
    "    - The first element is a list of `CONTEXT_SIZE` previous words.\n",
    "    - The second element is the target word that follows the context.\n",
    "\n",
    "    Parameters:\n",
    "    tokens (list): A list of preprocessed word tokens.\n",
    "\n",
    "    Returns:\n",
    "    list: A list of tuples representing n-grams.\n",
    "          Each tuple contains (context_words, target_word).\n",
    "    \"\"\"\n",
    "\n",
    "    # Generate n-grams\n",
    "    # Iterate through the tokens starting from index CONTEXT_SIZE to the end\n",
    "    # For each token at position 'i', extract the previous CONTEXT_SIZE words as context\n",
    "    ngrams = [\n",
    "        (\n",
    "            [tokens[i - j - 1] for j in range(CONTEXT_SIZE)],  # Context words (previous words)\n",
    "            tokens[i]  # Target word (the word to predict)\n",
    "        )\n",
    "        for i in range(CONTEXT_SIZE, len(tokens))\n",
    "    ]\n",
    "\n",
    "    return ngrams\n"
   ]
  },
  {
   "cell_type": "markdown",
   "id": "fa3cf3db-846b-4325-be5c-9596f5c634ad",
   "metadata": {},
   "source": [
    "Output the first element, which results in a tuple. The initial element represents the context, and the index indicates the following word.\n"
   ]
  },
  {
   "cell_type": "code",
   "execution_count": 28,
   "id": "5e9f3646-3526-4375-a872-595a7809746f",
   "metadata": {},
   "outputs": [
    {
     "name": "stdout",
     "output_type": "stream",
     "text": [
      "context ['are', 'we'] target no\n",
      "context index [58, 21] target index [70]\n"
     ]
    }
   ],
   "source": [
    "ngrams=genngrams(tokens)\n",
    "context, target=ngrams[0]\n",
    "print(\"context\",context,\"target\",target)\n",
    "print(\"context index\",vocab(context),\"target index\",vocab([target]))"
   ]
  },
  {
   "cell_type": "markdown",
   "id": "0fb8ccde-7337-423c-b152-4e8404fd33e8",
   "metadata": {},
   "source": [
    "In this context, there are multiple words. Aggregate the embeddings of each of these words and then adjust the input size of the subsequent layer accordingly. Then, create the next layer.\n"
   ]
  },
  {
   "cell_type": "code",
   "execution_count": 29,
   "id": "ff202d40-4794-4ad6-9783-8a676e00a4db",
   "metadata": {},
   "outputs": [],
   "source": [
    "embedding_dim=20\n",
    "linear = nn.Linear(embedding_dim*CONTEXT_SIZE,128)"
   ]
  },
  {
   "cell_type": "markdown",
   "id": "962387f9-91b7-45f9-88ae-51760d897633",
   "metadata": {},
   "source": [
    "\n",
    "You have the two embeddings.\n"
   ]
  },
  {
   "cell_type": "code",
   "execution_count": 30,
   "id": "d5702c1f-50f4-4769-8174-864749938af4",
   "metadata": {},
   "outputs": [
    {
     "data": {
      "text/plain": [
       "torch.Size([2, 20])"
      ]
     },
     "execution_count": 30,
     "metadata": {},
     "output_type": "execute_result"
    }
   ],
   "source": [
    "embeddings=genembedding(vocab)\n",
    "my_embeddings=embeddings(torch.tensor(vocab(context)))\n",
    "my_embeddings.shape"
   ]
  },
  {
   "cell_type": "markdown",
   "id": "5a69e294-0ef0-4f39-b371-3fbc914d676f",
   "metadata": {},
   "source": [
    "Reshape the embeddings.\n"
   ]
  },
  {
   "cell_type": "code",
   "execution_count": 31,
   "id": "4236cd91-43e5-4fed-8102-b8f308b554da",
   "metadata": {},
   "outputs": [
    {
     "data": {
      "text/plain": [
       "torch.Size([1, 40])"
      ]
     },
     "execution_count": 31,
     "metadata": {},
     "output_type": "execute_result"
    }
   ],
   "source": [
    "my_embeddings=my_embeddings.reshape(1,-1)\n",
    "my_embeddings.shape"
   ]
  },
  {
   "cell_type": "markdown",
   "id": "e5adbb6f-83ae-4b49-90f0-af8fa108955f",
   "metadata": {},
   "source": [
    "\n",
    "They can now be used as inputs in the next layer.\n"
   ]
  },
  {
   "cell_type": "code",
   "execution_count": 32,
   "id": "b4c52923-2369-4d5a-b03b-a3b52f89032d",
   "metadata": {},
   "outputs": [
    {
     "data": {
      "text/plain": [
       "tensor([[ 0.1071, -0.5729,  0.3512, -0.4765,  1.2177,  0.0988,  0.0484,  0.3359,\n",
       "          0.0716,  0.1894, -0.1068,  0.3479, -1.0446, -0.9432,  0.2057, -0.1117,\n",
       "          0.1350, -0.1381, -0.7961,  0.2918, -0.6041, -0.0941,  0.1891, -0.6644,\n",
       "         -0.8757,  1.0042, -0.9777, -0.6514,  0.3976, -0.5825,  0.2906,  0.0988,\n",
       "          0.4908, -0.8183,  0.1942, -0.6604,  0.2755,  0.2895, -0.2283, -0.3851,\n",
       "          0.2119,  0.4516, -0.0433,  0.1173,  0.2464,  0.5829, -0.0309,  0.9288,\n",
       "          0.4862, -0.3241, -0.0137,  0.1465, -0.3780, -0.8544, -0.0767, -0.3310,\n",
       "         -0.1377,  0.2583,  0.8086, -0.6544,  0.5843,  0.5866, -0.2326, -1.0836,\n",
       "         -0.6625, -0.0432, -0.2615,  1.1376,  0.0706, -0.1099, -0.9689,  0.1625,\n",
       "         -0.3607, -0.8394, -0.3943, -0.4062,  0.0617, -0.6901, -0.1331,  0.1617,\n",
       "          0.3853, -1.2146, -0.0273,  0.7063,  0.1911, -0.6456, -0.7466, -1.6014,\n",
       "          0.4792, -0.1895, -0.5815,  0.3558, -0.1990, -0.3589, -0.1267,  0.1096,\n",
       "          0.8428,  0.2815,  0.2504,  0.9567, -0.6838,  0.1736, -0.4438, -1.0313,\n",
       "          0.2040, -0.0073, -0.7205, -0.7038,  0.3187,  0.1158, -0.0359, -0.5430,\n",
       "         -1.2999, -0.3881, -0.5515,  0.5555, -0.5190, -0.3883,  0.1578, -0.8367,\n",
       "          0.2594,  0.4511,  0.1096,  0.0202,  0.3310,  0.4030, -0.4640, -0.2683]],\n",
       "       grad_fn=<AddmmBackward0>)"
      ]
     },
     "execution_count": 32,
     "metadata": {},
     "output_type": "execute_result"
    }
   ],
   "source": [
    "linear(my_embeddings)"
   ]
  },
  {
   "cell_type": "markdown",
   "id": "9f6d20f5-ec2a-4826-b455-b5725fa41304",
   "metadata": {},
   "source": [
    "## Batch function\n",
    "\n",
    "Create a Batch function to interface with the data loader. Several adjustments are necessary to handle words that are part of a context in one batch and a predicted word in the following batch.\n"
   ]
  },
  {
   "cell_type": "code",
   "execution_count": 33,
   "id": "281b3d49-c440-43c9-89a9-9ef7f3a12471",
   "metadata": {},
   "outputs": [],
   "source": [
    "from torch.utils.data import DataLoader  # Importing DataLoader for batch processing\n",
    "import torch  # Importing PyTorch\n",
    "\n",
    "# Set the device to GPU if available; otherwise, use CPU\n",
    "device = torch.device(\"cuda\" if torch.cuda.is_available() else \"cpu\")\n",
    "\n",
    "# Define hyperparameters\n",
    "CONTEXT_SIZE = 3   # Number of previous words used as context for prediction\n",
    "BATCH_SIZE = 10    # Number of samples per training batch\n",
    "EMBEDDING_DIM = 10 # Dimension of word embeddings\n",
    "\n",
    "def collate_batch(batch):\n",
    "    \"\"\"\n",
    "    Processes a batch of text data into input (context) and output (target) tensors\n",
    "    for training a language model.\n",
    "\n",
    "    The function extracts:\n",
    "    - `context`: A list of word indices representing the context words for each target word.\n",
    "    - `target`: A list of word indices representing the target word to predict.\n",
    "\n",
    "    Parameters:\n",
    "    batch (list): A list of tokenized words (strings).\n",
    "\n",
    "    Returns:\n",
    "    tuple: Two PyTorch tensors: (context_tensor, target_tensor)\n",
    "           - context_tensor: Tensor of shape (batch_size - CONTEXT_SIZE, CONTEXT_SIZE),\n",
    "             containing the word indices of context words.\n",
    "           - target_tensor: Tensor of shape (batch_size - CONTEXT_SIZE,),\n",
    "             containing the word indices of target words.\n",
    "    \"\"\"\n",
    "\n",
    "    batch_size = len(batch)  # Get the size of the batch\n",
    "    context, target = [], [] # Initialize lists for context and target words\n",
    "\n",
    "    # Loop through the batch, ensuring enough previous words exist for context\n",
    "    for i in range(CONTEXT_SIZE, batch_size):\n",
    "        # Convert the target word to its index using the vocabulary\n",
    "        target.append(vocab([batch[i]]))\n",
    "\n",
    "        # Convert the previous CONTEXT_SIZE words to indices using the vocabulary\n",
    "        context.append(vocab([batch[i - j - 1] for j in range(CONTEXT_SIZE)]))\n",
    "\n",
    "    # Convert lists to PyTorch tensors and move them to the appropriate device (CPU/GPU)\n",
    "    return torch.tensor(context).to(device), torch.tensor(target).to(device).reshape(-1)\n"
   ]
  },
  {
   "cell_type": "markdown",
   "id": "508b891a-0c74-491e-bda5-55946222849c",
   "metadata": {},
   "source": [
    "Similarly, it's important to highlight that the size of the last batch could deviate from that of the earlier batches. To tackle this, the approach involves adjusting the final batch to conform to the specified batch size, ensuring it becomes a multiple of the predetermined size. When necessary, you'll employ padding techniques to achieve this harmonization. One approach you'll use is appending the beginning of the song to the end of the batch.\n"
   ]
  },
  {
   "cell_type": "code",
   "execution_count": 34,
   "id": "7785ecc3-92bc-434c-b5d9-5f01d1d0dc0d",
   "metadata": {},
   "outputs": [],
   "source": [
    "Padding=BATCH_SIZE-len(tokens)%BATCH_SIZE\n",
    "tokens_pad=tokens+tokens[0:Padding]\n"
   ]
  },
  {
   "cell_type": "markdown",
   "id": "f229f887-d8f8-4d0e-a755-fd0fa9ac44c7",
   "metadata": {},
   "source": [
    "Create the`DataLoader`.\n"
   ]
  },
  {
   "cell_type": "code",
   "execution_count": 35,
   "id": "a3475dc7-2ae5-4c27-a046-fee1f7357ef8",
   "metadata": {},
   "outputs": [],
   "source": [
    "dataloader = DataLoader(\n",
    "     tokens_pad, batch_size=BATCH_SIZE, shuffle=False, collate_fn=collate_batch\n",
    ")"
   ]
  },
  {
   "cell_type": "markdown",
   "id": "b69fbe65-30ef-4418-ba1b-397f0696f634",
   "metadata": {},
   "source": [
    "## Multi-class neural network\n",
    "\n",
    "You have developed a PyTorch class for a multi-class neural network. The network's output is the probability of the next word within a given context. Therefore, the number of classes corresponds to the count of distinct words. The initial layer consists of embeddings, and in addition to the final layer, an extra hidden layer is incorporated.\n"
   ]
  },
  {
   "cell_type": "code",
   "execution_count": 37,
   "id": "25b8ec64-308c-450f-99e9-d813a71e14e1",
   "metadata": {},
   "outputs": [],
   "source": [
    "class NGramLanguageModeler(nn.Module):\n",
    "    \"\"\"\n",
    "    A neural network-based n-gram language model that predicts the next word \n",
    "    given a sequence of context words.\n",
    "\n",
    "    This model consists of:\n",
    "    - An embedding layer that converts word indices into dense vector representations.\n",
    "    - A fully connected hidden layer with ReLU activation.\n",
    "    - An output layer that predicts the probability distribution over the vocabulary.\n",
    "\n",
    "    Parameters:\n",
    "    vocab_size (int): The number of unique words in the vocabulary.\n",
    "    embedding_dim (int): The size of the word embeddings (vector representation of words).\n",
    "    context_size (int): The number of previous words used as context to predict the next word.\n",
    "    \"\"\"\n",
    "\n",
    "    def __init__(self, vocab_size, embedding_dim, context_size):\n",
    "        super(NGramLanguageModeler, self).__init__()\n",
    "\n",
    "        # Store context size and embedding dimension\n",
    "        self.context_size = context_size\n",
    "        self.embedding_dim = embedding_dim\n",
    "\n",
    "        # Embedding layer: Maps word indices to dense vectors\n",
    "        self.embeddings = nn.Embedding(vocab_size, embedding_dim)\n",
    "\n",
    "        # Fully connected hidden layer: Maps the concatenated embeddings to a 128-dimensional space\n",
    "        self.linear1 = nn.Linear(context_size * embedding_dim, 128)\n",
    "\n",
    "        # Output layer: Maps the hidden layer output to vocabulary size (probability distribution over words)\n",
    "        self.linear2 = nn.Linear(128, vocab_size)\n",
    "\n",
    "    def forward(self, inputs):\n",
    "        \"\"\"\n",
    "        Forward pass of the model.\n",
    "\n",
    "        Parameters:\n",
    "        inputs (Tensor): A tensor of shape (batch_size, context_size) containing word indices.\n",
    "\n",
    "        Returns:\n",
    "        Tensor: A tensor of shape (batch_size, vocab_size) representing predicted probabilities for the next word.\n",
    "        \"\"\"\n",
    "\n",
    "        # Convert input word indices into dense vectors using the embedding layer\n",
    "        embeds = self.embeddings(inputs)  # Shape: (batch_size, context_size, embedding_dim)\n",
    "\n",
    "        # Reshape the embeddings into a single vector per input sample\n",
    "        embeds = torch.reshape(embeds, (-1, self.context_size * self.embedding_dim))  \n",
    "        # New shape: (batch_size, context_size * embedding_dim)\n",
    "\n",
    "        # Apply first fully connected layer with ReLU activation\n",
    "        out = F.relu(self.linear1(embeds))  # Shape: (batch_size, 128)\n",
    "\n",
    "        # Apply second fully connected layer to generate vocabulary-size logits\n",
    "        out = self.linear2(out)  # Shape: (batch_size, vocab_size)\n",
    "\n",
    "        return out\n"
   ]
  },
  {
   "cell_type": "markdown",
   "id": "e12cbc37-42c2-47c5-a4e4-ed820b2b7c13",
   "metadata": {},
   "source": [
    "Create a model.\n"
   ]
  },
  {
   "cell_type": "code",
   "execution_count": 38,
   "id": "1a6428f0-13fe-4d83-a0b5-9a1ebc7e0eaf",
   "metadata": {},
   "outputs": [],
   "source": [
    "model = NGramLanguageModeler(len(vocab), EMBEDDING_DIM, CONTEXT_SIZE).to(device)"
   ]
  },
  {
   "cell_type": "markdown",
   "id": "2142f22b-8e22-4ba7-91c8-0d4818b1a013",
   "metadata": {},
   "source": [
    "Retrieve samples from the data loader object and input them into the neural network.\n"
   ]
  },
  {
   "cell_type": "code",
   "execution_count": 39,
   "id": "1b091546-d31f-4531-ae88-5d1669dca869",
   "metadata": {},
   "outputs": [
    {
     "name": "stdout",
     "output_type": "stream",
     "text": [
      "tensor([[70, 58, 21],\n",
      "        [74, 70, 58],\n",
      "        [25, 74, 70],\n",
      "        [69, 25, 74],\n",
      "        [ 2, 69, 25],\n",
      "        [20,  2, 69],\n",
      "        [31, 20,  2]]) tensor([74, 25, 69,  2, 20, 31, 72])\n"
     ]
    }
   ],
   "source": [
    "context, target=next(iter(dataloader))\n",
    "print(context, target)\n",
    "out=model(context)"
   ]
  },
  {
   "cell_type": "markdown",
   "id": "74013869-85e1-4816-afa9-f4c4e0600a98",
   "metadata": {},
   "source": [
    "While the model remains untrained, analyzing the output can provide us with a clearer understanding. In the output, the first dimension corresponds to the batch size, while the second dimension represents the probability associated with each class.\n"
   ]
  },
  {
   "cell_type": "code",
   "execution_count": 40,
   "id": "8fb3ce87-8dfc-47ff-beb0-132b506c7151",
   "metadata": {},
   "outputs": [
    {
     "data": {
      "text/plain": [
       "torch.Size([7, 79])"
      ]
     },
     "execution_count": 40,
     "metadata": {},
     "output_type": "execute_result"
    }
   ],
   "source": [
    "out.shape"
   ]
  },
  {
   "cell_type": "markdown",
   "id": "5b13d35c-853f-4896-b04c-74a0c2790b46",
   "metadata": {},
   "source": [
    "Find the index with the highest probability.\n"
   ]
  },
  {
   "cell_type": "code",
   "execution_count": 41,
   "id": "a3542539-6257-4553-a456-73d585d8af36",
   "metadata": {},
   "outputs": [
    {
     "data": {
      "text/plain": [
       "tensor([24, 30, 25, 24, 36, 54,  6])"
      ]
     },
     "execution_count": 41,
     "metadata": {},
     "output_type": "execute_result"
    }
   ],
   "source": [
    "predicted_index =torch.argmax(out,1)\n",
    "predicted_index"
   ]
  },
  {
   "cell_type": "markdown",
   "id": "73b10b7e-a17a-4c5e-8eaf-40e9b7a88178",
   "metadata": {},
   "source": [
    "Find the corresponding token.\n"
   ]
  },
  {
   "cell_type": "code",
   "execution_count": 42,
   "id": "96136b76-84b0-48b7-83bf-3447160bf4ae",
   "metadata": {},
   "outputs": [
    {
     "data": {
      "text/plain": [
       "['it', 'so', 'to', 'it', 'but', 'weve', 'make']"
      ]
     },
     "execution_count": 42,
     "metadata": {},
     "output_type": "execute_result"
    }
   ],
   "source": [
    "[index_to_token[i.item()] for i in  predicted_index]"
   ]
  },
  {
   "cell_type": "markdown",
   "id": "f6280af7-6898-419b-8678-2abc1e4c1eda",
   "metadata": {},
   "source": [
    "Create a function that accomplishes the same task for the tokens.\n"
   ]
  },
  {
   "cell_type": "code",
   "execution_count": 43,
   "id": "d3f50cbf-f248-4a21-b9da-caa5268b34af",
   "metadata": {},
   "outputs": [],
   "source": [
    "def write_song(model, my_song, number_of_words=100):\n",
    "    \"\"\"\n",
    "    Generates text using a trained n-gram language model.\n",
    "\n",
    "    Given an initial text (`my_song`), the function generates additional words by \n",
    "    predicting the next word iteratively based on the trained model.\n",
    "\n",
    "    Parameters:\n",
    "    model (nn.Module): The trained n-gram language model.\n",
    "    my_song (str): The initial seed text to start generating words.\n",
    "    number_of_words (int): The number of words to generate (default: 100).\n",
    "\n",
    "    Returns:\n",
    "    str: The generated song lyrics as a string.\n",
    "    \"\"\"\n",
    "\n",
    "    # Get the mapping from index to word for decoding predictions\n",
    "    index_to_token = vocab.get_itos()\n",
    "\n",
    "    # Loop to generate the desired number of words\n",
    "    for i in range(number_of_words):\n",
    "\n",
    "        with torch.no_grad():  # Disable gradient computation for inference\n",
    "            \n",
    "            # Prepare the input context by extracting the last CONTEXT_SIZE words from tokens\n",
    "            context = torch.tensor(\n",
    "                vocab([tokens[i - j - 1] for j in range(CONTEXT_SIZE)])\n",
    "            ).to(device)  # Move to CPU/GPU as required\n",
    "            \n",
    "            # Predict the next word by selecting the word with the highest probability\n",
    "            word_idx = torch.argmax(model(context))  # Get index of the most likely next word\n",
    "            \n",
    "            # Append the predicted word to the generated text\n",
    "            my_song += \" \" + index_to_token[word_idx.detach().item()]\n",
    "\n",
    "    return my_song  # Return the generated lyrics\n"
   ]
  },
  {
   "cell_type": "code",
   "execution_count": 44,
   "id": "055b96dc-c677-4a30-b269-fc52a6de9171",
   "metadata": {},
   "outputs": [
    {
     "name": "stdout",
     "output_type": "stream",
     "text": [
      "Never gonna say goodbye but weve it it so to it but weve make see any to so to make to aching see dont just but <unk> so it <unk> so it to aching it but weve any any just see to so but see aching dont see to so just just <unk> aching to dont just <unk> any of to dont just any any so it so no what just aching dont to dont dont just any <unk> aching what just any of any full it but weve make but it but it to <unk> any make weve it any it it full\n"
     ]
    }
   ],
   "source": [
    "def pickrandomline(song):\n",
    "    \"\"\"\n",
    "    Selects a random line from the given song text.\n",
    "\n",
    "    This function splits the song into separate lines and randomly picks one of them.\n",
    "\n",
    "    Parameters:\n",
    "    song (str): The song lyrics as a multi-line string.\n",
    "\n",
    "    Returns:\n",
    "    str: A randomly selected line from the song.\n",
    "    \"\"\"\n",
    "    \n",
    "    # Split the song into individual lines\n",
    "    lines = song.split(\"\\n\")  \n",
    "    \n",
    "    # Randomly select a line and remove leading/trailing whitespace\n",
    "    selected_line = random.choice(lines).strip()\n",
    "    \n",
    "    return selected_line  # Return the randomly selected line\n",
    "\n",
    "# Example usage:\n",
    "selected_line = pickrandomline(song)  # Pick a random line from the song\n",
    "\n",
    "# Generate a new song starting with the selected line\n",
    "generated_song = write_song(model, selected_line)\n",
    "\n",
    "# Print the generated lyrics\n",
    "print(generated_song)\n"
   ]
  },
  {
   "cell_type": "markdown",
   "id": "0d6cb903-f70a-4650-83ea-080bd3f1c45f",
   "metadata": {},
   "source": [
    "## Training\n",
    "\n",
    "Training a language model involves a multi-step process that leverages training and testing data to optimize model performance. In the realm of Natural Language Processing (NLP), this process often employs various metrics to gauge a model's accuracy, such as perplexity or accuracy on unseen data. However, in the context of your current exploration, you will embark on a slightly different journey. Instead of relying solely on conventional NLP metrics, the focus shifts to manual inspection of the results. \n",
    "\n",
    "You have the cross entropy loss between input logits and target:\n"
   ]
  },
  {
   "cell_type": "code",
   "execution_count": 45,
   "id": "61de731f-6b9a-4b4f-bf57-921e37a6b5bd",
   "metadata": {},
   "outputs": [],
   "source": [
    "criterion = torch.nn.CrossEntropyLoss()"
   ]
  },
  {
   "cell_type": "markdown",
   "id": "23dd77eb-2edb-4840-b29e-efe14b466065",
   "metadata": {},
   "source": [
    "You have developed a function dedicated to training the model using the supplied data loader. In addition to training the model, the function's output includes predictions for each epoch, spanning context for the next 100 words.\n",
    "\n",
    "\n",
    ">**Note: Since the dataset used is relatively small and the model is trained for a limited number of epochs, the generated song may not always be fully coherent due to a restricted vocabulary. This example primarily serves to demonstrate the functionality of a feedforward neural network for language modeling.**\n"
   ]
  },
  {
   "cell_type": "code",
   "execution_count": 46,
   "id": "c17b05d3-3c0c-4a53-a532-992f32078672",
   "metadata": {},
   "outputs": [],
   "source": [
    "def train(dataloader, model,song,number_of_epochs=100, show=10):\n",
    "    \"\"\"\n",
    "    Args:\n",
    "        dataloader (DataLoader): DataLoader containing training data.\n",
    "        model (nn.Module): Neural network model to be trained.\n",
    "        number_of_epochs (int, optional): Number of epochs for training. Default is 100.\n",
    "        show (int, optional): Interval for displaying progress. Default is 10.\n",
    "\n",
    "    Returns:\n",
    "        list: List containing loss values for each epoch.\n",
    "    \"\"\"\n",
    "\n",
    "    MY_LOSS = []  # List to store loss values for each epoch\n",
    "\n",
    "    # Iterate over the specified number of epochs\n",
    "    for epoch in tqdm(range(number_of_epochs)):\n",
    "        total_loss = 0  # Initialize total loss for the current epoch\n",
    "        my_song = \"\"    # Initialize a string to store the generated song\n",
    "\n",
    "        # Iterate over batches in the dataloader\n",
    "        for context, target in dataloader:\n",
    "            model.zero_grad()          # Zero the gradients to avoid accumulation\n",
    "            predicted = model(context)  # Forward pass through the model to get predictions\n",
    "            loss = criterion(predicted, target.reshape(-1))  # Calculate the loss\n",
    "            total_loss += loss.item()   # Accumulate the loss\n",
    "\n",
    "            loss.backward()    # Backpropagation to compute gradients\n",
    "            optimizer.step()   # Update model parameters using the optimizer\n",
    "\n",
    "        # Display progress and generate song at specified intervals\n",
    "        if epoch % show == 0:\n",
    "            selected_line=pickrandomline(song)\n",
    "            my_song += write_song(model, selected_line)    # Generate song using the model\n",
    "\n",
    "            print(\"Generated Song:\")\n",
    "            print(\"\\n\")\n",
    "            print(my_song)\n",
    "\n",
    "        MY_LOSS.append(total_loss/len(dataloader))  # Append the total loss for the epoch to MY_LOSS list\n",
    "\n",
    "    return MY_LOSS  # Return the list of  mean loss values for each epoch"
   ]
  },
  {
   "cell_type": "markdown",
   "id": "100815a5-b711-49cb-a799-eb6960cd4bd5",
   "metadata": {},
   "source": [
    "The following list will be used to store the loss for each model.\n"
   ]
  },
  {
   "cell_type": "code",
   "execution_count": 47,
   "id": "c93eba0f-e771-40ba-a0ac-c31dd11484fa",
   "metadata": {},
   "outputs": [],
   "source": [
    "my_loss_list=[]"
   ]
  },
  {
   "cell_type": "markdown",
   "id": "098258f0-98e6-4010-8f86-83f3b1ae3ff9",
   "metadata": {},
   "source": [
    "This code segment initializes an n-gram language model with a context size of 2. The model, named `model_2`, is configured based on the provided vocabulary size, embedding dimension, and context size. The Stochastic Gradient Descent (SGD) optimizer is employed with a learning rate of 0.01 to manage model parameter updates. A learning rate scheduler, using a step-wise approach with a reduction factor of 0.1 per epoch, is set up to adapt the learning rate during the training process. These settings collectively establish the framework for training the n-gram language model with tailored optimization and learning rate adjustment.\n"
   ]
  },
  {
   "cell_type": "code",
   "execution_count": 48,
   "id": "05277d65-1d84-427a-a243-5fd22327ee09",
   "metadata": {},
   "outputs": [],
   "source": [
    "# Define the context size for the n-gram model\n",
    "CONTEXT_SIZE = 2\n",
    "\n",
    "# Create an instance of the NGramLanguageModeler class with specified parameters\n",
    "model_2 = NGramLanguageModeler(len(vocab), EMBEDDING_DIM, CONTEXT_SIZE).to(device)\n",
    "\n",
    "# Define the optimizer for training the model, using stochastic gradient descent (SGD)\n",
    "optimizer = optim.SGD(model_2.parameters(), lr=0.01)\n",
    "\n",
    "# Set up a learning rate scheduler using StepLR to adjust the learning rate during training\n",
    "scheduler = torch.optim.lr_scheduler.StepLR(optimizer, step_size=1.0, gamma=0.1)"
   ]
  },
  {
   "cell_type": "markdown",
   "id": "c8db3a31-d665-4ecb-a7d6-92240a87b387",
   "metadata": {},
   "source": [
    "Now, you will train the model.\n"
   ]
  },
  {
   "cell_type": "code",
   "execution_count": 49,
   "id": "313a4253-e7fe-450d-8d25-8939f2af8436",
   "metadata": {},
   "outputs": [
    {
     "name": "stderr",
     "output_type": "stream",
     "text": [
      " 22%|██▏       | 22/100 [00:00<00:00, 113.46it/s]"
     ]
    },
    {
     "name": "stdout",
     "output_type": "stream",
     "text": [
      "Generated Song:\n",
      "\n",
      "\n",
      "You wouldnt get this from any other guy <unk> <unk> <unk> <unk> up <unk> <unk> <unk> <unk> <unk> <unk> say <unk> <unk> you <unk> <unk> you <unk> <unk> <unk> you <unk> <unk> <unk> inside <unk> <unk> <unk> weve <unk> <unk> <unk> <unk> never <unk> <unk> <unk> <unk> <unk> <unk> <unk> <unk> <unk> <unk> <unk> <unk> <unk> <unk> <unk> <unk> <unk> <unk> you <unk> <unk> <unk> <unk> <unk> <unk> <unk> <unk> <unk> <unk> <unk> <unk> <unk> <unk> <unk> <unk> <unk> <unk> <unk> shy <unk> <unk> <unk> <unk> never <unk> <unk> <unk> <unk> <unk> <unk> <unk> <unk> <unk> it <unk> <unk> <unk> <unk> <unk> <unk> hurt <unk> <unk> <unk> <unk>\n",
      "Generated Song:\n",
      "\n",
      "\n",
      "Never gonna tell a lie and hurt you never never never <unk> you <unk> you you never <unk> never you you you you <unk> and you never you never you <unk> never you you and never never you you <unk> <unk> tell you <unk> never never never <unk> tell you you <unk> <unk> <unk> tell you never never <unk> <unk> tell you <unk> never <unk> <unk> tell you and you you never <unk> <unk> tell you you you <unk> <unk> tell you never <unk> <unk> tell you <unk> and never you never you never <unk> you and you you <unk> <unk> never <unk> you you you you <unk>\n",
      "Generated Song:\n",
      "\n",
      "\n",
      "Never gonna tell a lie and hurt you never never never and you desert you never never <unk> and hurt you you you <unk> and you and you never you <unk> never you desert and never never and and <unk> <unk> tell you <unk> never you never <unk> tell you you never <unk> <unk> tell you never never <unk> <unk> tell you down never <unk> <unk> tell you and desert you never <unk> <unk> tell you you and <unk> <unk> tell goodbye never <unk> <unk> tell you <unk> and hurt you never you and <unk> you and you never <unk> <unk> and never you and you you <unk>\n"
     ]
    },
    {
     "name": "stderr",
     "output_type": "stream",
     "text": [
      " 49%|████▉     | 49/100 [00:00<00:00, 128.28it/s]"
     ]
    },
    {
     "name": "stdout",
     "output_type": "stream",
     "text": [
      "Generated Song:\n",
      "\n",
      "\n",
      "Your hearts been aching but youre too shy to say it never never no and to desert you never never been and hurt you never you <unk> and desert desert you never you down never never im and never never and and <unk> <unk> tell you down never feeling never <unk> tell you you never <unk> <unk> tell you never never <unk> <unk> tell you down never <unk> <unk> tell you and desert you never <unk> <unk> tell you you and <unk> <unk> tell goodbye never <unk> <unk> tell you <unk> and hurt you never and and <unk> you and you never never <unk> and we you hurt desert you hurt\n",
      "Generated Song:\n",
      "\n",
      "\n",
      "Gotta make you understand never never no and to desert you never never been and hurt you never you how and desert desert feeling never you down never never im and never never and and <unk> <unk> tell you how im feeling never <unk> tell you you never <unk> <unk> tell you never never <unk> <unk> tell you down never <unk> <unk> tell you and desert you never <unk> <unk> tell you you and <unk> <unk> tell goodbye never <unk> <unk> tell you we and hurt you never never each <unk> you and you to <unk> been and we know too shy to hurt\n",
      "Generated Song:\n",
      "\n",
      "\n",
      "Your hearts been aching but youre too shy to say it never never no strangers to desert you never never game and hurt you never you how and hurt desert feeling feeling you down never never im and never never and and <unk> <unk> tell you how im feeling never <unk> tell you you never <unk> <unk> tell you never never <unk> <unk> tell you down never <unk> <unk> tell you and desert you never <unk> <unk> tell you you and <unk> <unk> tell goodbye never <unk> <unk> tell you how and hurt you never known each <unk> for and <unk> to <unk> been and but youre too shy to hurt\n"
     ]
    },
    {
     "name": "stderr",
     "output_type": "stream",
     "text": [
      " 78%|███████▊  | 78/100 [00:00<00:00, 136.65it/s]"
     ]
    },
    {
     "name": "stdout",
     "output_type": "stream",
     "text": [
      "Generated Song:\n",
      "\n",
      "\n",
      "Your hearts been aching but youre too shy to say it never never no strangers to desert you never never game and hurt you i a how and hurt im feeling feeling you down never never im and other never and and <unk> <unk> tell you how im feeling dont <unk> tell you understand never <unk> <unk> tell you never never <unk> <unk> tell you down never <unk> <unk> tell you and desert you never <unk> <unk> tell you understand and <unk> <unk> tell goodbye never <unk> <unk> tell you how and hurt you never known each other for been know to <unk> been aching but youre too shy to hurt\n",
      "Generated Song:\n",
      "\n",
      "\n",
      "Never gonna let you down never never no strangers to desert you never never game and hurt you i a how and hurt im thinking each you down never never im and other never and and <unk> <unk> tell you how im feeling dont <unk> tell you understand never <unk> <unk> tell you never never <unk> <unk> tell you down never <unk> <unk> tell you and desert you never <unk> <unk> tell you understand and <unk> <unk> tell goodbye never <unk> <unk> tell you how and hurt you never known each other for been long to <unk> been aching but youre too shy to hurt\n",
      "Generated Song:\n",
      "\n",
      "\n",
      "We know the game and were gonna play it never never no strangers to im you never never game and hurt you i a how and hurt im thinking each you down never never im and other never and and <unk> <unk> tell you how im feeling dont <unk> tell you understand never <unk> <unk> tell you never never <unk> <unk> tell you down never <unk> <unk> tell you and desert you never <unk> <unk> tell you understand and <unk> <unk> tell goodbye never <unk> <unk> tell you how and hurt you never known each other for been long to <unk> been aching but youre too shy to hurt\n"
     ]
    },
    {
     "name": "stderr",
     "output_type": "stream",
     "text": [
      "100%|██████████| 100/100 [00:00<00:00, 126.83it/s]"
     ]
    },
    {
     "name": "stdout",
     "output_type": "stream",
     "text": [
      "Generated Song:\n",
      "\n",
      "\n",
      "You wouldnt get this from any other guy never never no strangers to im you never the game and hurt you i a how and hurt im thinking dont you down never never im and other guy known and <unk> <unk> tell you how im feeling dont <unk> tell you understand never <unk> <unk> tell you never never <unk> <unk> tell you down never <unk> <unk> tell you and desert you never <unk> <unk> tell you understand and <unk> <unk> tell goodbye never <unk> <unk> tell you lie and hurt you never known each other for so long to <unk> been aching but youre too shy to hurt\n"
     ]
    },
    {
     "name": "stderr",
     "output_type": "stream",
     "text": [
      "\n"
     ]
    }
   ],
   "source": [
    "my_loss=train(dataloader,model_2,song)"
   ]
  },
  {
   "cell_type": "markdown",
   "id": "36cf9384-ddaf-43d7-a789-f64b3004ddc2",
   "metadata": {},
   "source": [
    "Save the model.\n"
   ]
  },
  {
   "cell_type": "code",
   "execution_count": 50,
   "id": "b15a0350-eef1-4e5b-b443-e20c68d3edd1",
   "metadata": {},
   "outputs": [],
   "source": [
    "save_path = '2gram.pth'\n",
    "torch.save(model_2.state_dict(), save_path)\n",
    "my_loss_list.append(my_loss)"
   ]
  },
  {
   "cell_type": "markdown",
   "id": "13207b40-610e-4d9d-bfb6-4b725ce7f964",
   "metadata": {},
   "source": [
    "The code provided below shows word embeddings from the created model, reduces their dimensionality to 2D using t-SNE, and then plots them as a scatter plot. Additionally, it annotates the first 20 points in the visualization with their corresponding words. This is used to visualize how similar words cluster together in a lower-dimensional space, revealing the structure of the word embeddings. Embeddings allow the model to represent words in a continuous vector space, capturing semantic relationships and similarities between words.\n"
   ]
  },
  {
   "cell_type": "code",
   "execution_count": 51,
   "id": "4546af41-e543-4a21-9057-e37dea813449",
   "metadata": {},
   "outputs": [
    {
     "data": {
      "image/png": "[encoded data removed]",
      "text/plain": [
       "<Figure size 640x480 with 1 Axes>"
      ]
     },
     "metadata": {},
     "output_type": "display_data"
    }
   ],
   "source": [
    "X = model_2.embeddings.weight.cpu().detach().numpy()\n",
    "tsne = TSNE(n_components=2, random_state=42)\n",
    "X_2d = tsne.fit_transform(X)\n",
    "\n",
    "labels = []\n",
    "\n",
    "for j in range(len(X_2d)):\n",
    "    if j < 20:\n",
    "        plt.scatter(X_2d[j, 0], X_2d[j, 1], label=index_to_token[j])\n",
    "        labels.append(index_to_token[j])\n",
    "        # Add words as annotations\n",
    "        plt.annotate(index_to_token[j],\n",
    "                     (X_2d[j, 0], X_2d[j, 1]),\n",
    "                     textcoords=\"offset points\",\n",
    "                     xytext=(0, 10),\n",
    "                     ha='center')\n",
    "    else:\n",
    "        plt.scatter(X_2d[j, 0], X_2d[j, 1])\n",
    "\n",
    "plt.legend(labels, loc='upper left', bbox_to_anchor=(1, 1))\n",
    "plt.show()"
   ]
  },
  {
   "cell_type": "code",
   "execution_count": 52,
   "id": "26515a6f-c3d8-4691-ad8f-146f2f8a13cd",
   "metadata": {},
   "outputs": [
    {
     "name": "stdout",
     "output_type": "stream",
     "text": [
      "1.26.4\n"
     ]
    }
   ],
   "source": [
    "import numpy as np\n",
    "print(np.__version__)"
   ]
  },
  {
   "cell_type": "markdown",
   "id": "91a3eb82-a6b1-497d-83a7-fb5fe66f3c4b",
   "metadata": {},
   "source": [
    "Repeat the process for a context of four.\n"
   ]
  },
  {
   "cell_type": "code",
   "execution_count": 53,
   "id": "82ed4033-612a-4559-8458-d5bfedd2f960",
   "metadata": {},
   "outputs": [
    {
     "name": "stderr",
     "output_type": "stream",
     "text": [
      " 25%|██▌       | 25/100 [00:00<00:00, 121.27it/s]"
     ]
    },
    {
     "name": "stdout",
     "output_type": "stream",
     "text": [
      "Generated Song:\n",
      "\n",
      "\n",
      "Never gonna give you up <unk> you <unk> desert you <unk> <unk> <unk> you <unk> <unk> you you <unk> never <unk> <unk> <unk> you never you <unk> <unk> you gonna <unk> never <unk> are you you <unk> <unk> <unk> you never <unk> <unk> <unk> you <unk> you never <unk> <unk> <unk> <unk> you never you <unk> <unk> <unk> you never <unk> <unk> <unk> <unk> you you you never never <unk> <unk> <unk> you never you <unk> <unk> <unk> you never <unk> <unk> <unk> you never you you <unk> <unk> <unk> <unk> <unk> you <unk> <unk> <unk> never <unk> <unk> <unk> never <unk> <unk> <unk> <unk>\n",
      "Generated Song:\n",
      "\n",
      "\n",
      "Never gonna run around and desert you never <unk> <unk> never you <unk> you never never <unk> tell you you <unk> never you <unk> tell you never <unk> <unk> you never never never you <unk> <unk> you never never <unk> <unk> you never never <unk> <unk> <unk> <unk> you never never <unk> <unk> tell you never never <unk> <unk> let you down never <unk> <unk> tell you you you you never <unk> <unk> make you never never <unk> <unk> say you never <unk> <unk> tell you never never you you never <unk> never <unk> <unk> you never <unk> never <unk> you you never <unk> <unk> you you\n",
      "Generated Song:\n",
      "\n",
      "\n",
      "Never gonna make you cry never <unk> <unk> never to <unk> you down never <unk> tell you you <unk> never you you tell you feeling you feeling down never down im you <unk> <unk> you never never <unk> tell you never never feeling <unk> <unk> <unk> you down never <unk> <unk> tell you never never <unk> <unk> let you down never <unk> <unk> give you goodbye you you never <unk> <unk> make you down never <unk> <unk> say goodbye never <unk> <unk> tell you never <unk> feeling you never <unk> never <unk> for you never <unk> never <unk> you you never <unk> shy to you\n"
     ]
    },
    {
     "name": "stderr",
     "output_type": "stream",
     "text": [
      " 53%|█████▎    | 53/100 [00:00<00:00, 128.65it/s]"
     ]
    },
    {
     "name": "stdout",
     "output_type": "stream",
     "text": [
      "Generated Song:\n",
      "\n",
      "\n",
      "Never gonna tell a lie and hurt you never known feeling strangers to <unk> you down never <unk> make you you <unk> never you you shy you feeling im feeling down never this im you been guy you never never <unk> tell you never im feeling <unk> <unk> <unk> you down never <unk> <unk> give you never never <unk> <unk> let you down never <unk> <unk> give you goodbye you you never <unk> <unk> make you down never <unk> <unk> say goodbye never <unk> <unk> tell you how <unk> feeling you never known each other for so never <unk> <unk> <unk> you but never too shy to say\n",
      "Generated Song:\n",
      "\n",
      "\n",
      "Never gonna say goodbye never known know strangers to love you know never <unk> make you you <unk> a you you shy im feeling im feeling down never this im but been guy you never never <unk> tell you how im feeling <unk> <unk> <unk> you down never <unk> <unk> give you never never <unk> <unk> let you down never <unk> <unk> give you goodbye goodbye you never <unk> <unk> make you down never <unk> <unk> say goodbye never <unk> <unk> tell you how im feeling you never known each other for so never <unk> <unk> <unk> you but youre too shy to say\n",
      "Generated Song:\n",
      "\n",
      "\n",
      "Never gonna let you down never known know strangers to love you know the <unk> other were you <unk> a full commitments what im feeling im feeling down never this from any other guy i never never <unk> tell you how im feeling <unk> <unk> <unk> you down never <unk> <unk> give you never never <unk> <unk> let you down never <unk> <unk> give you down goodbye you never <unk> <unk> make you down never <unk> <unk> say goodbye never <unk> <unk> tell you how im feeling you never known each other for so long <unk> <unk> been you but youre too shy to say\n"
     ]
    },
    {
     "name": "stderr",
     "output_type": "stream",
     "text": [
      " 80%|████████  | 80/100 [00:00<00:00, 131.59it/s]"
     ]
    },
    {
     "name": "stdout",
     "output_type": "stream",
     "text": [
      "Generated Song:\n",
      "\n",
      "\n",
      "Never gonna give you up never known no strangers to love you know the rules other were you <unk> a full commitments what im thinking im feeling down never this from any other guy i never never <unk> tell you how im feeling <unk> <unk> <unk> you cry never <unk> <unk> give you never never <unk> <unk> let you down never <unk> <unk> give you down goodbye you never <unk> <unk> make you cry never <unk> <unk> say goodbye never <unk> <unk> tell you how im feeling you never known each other for so long im <unk> been aching but youre too shy to say\n",
      "Generated Song:\n",
      "\n",
      "\n",
      "Never gonna let you down never are no strangers to love you know the rules other were you <unk> a full commitments what im thinking im feeling down never this from any other guy i never youre <unk> tell you how im feeling <unk> <unk> <unk> you cry never <unk> <unk> give you up never <unk> <unk> let you down never <unk> <unk> give you down how you never <unk> <unk> make you cry never <unk> <unk> say goodbye never <unk> <unk> tell you lie im feeling you never known each other for so long im <unk> been aching but youre too shy to say\n",
      "Generated Song:\n",
      "\n",
      "\n",
      "Dont tell me youre too blind to see never are no strangers to love you know the rules other were you <unk> a full commitments what im thinking im feeling down never this from any other guy i never youre <unk> tell you how im feeling <unk> <unk> <unk> you understand never <unk> <unk> give you up never <unk> <unk> let you down never <unk> <unk> run around im how you never <unk> <unk> make you understand never <unk> <unk> say goodbye never <unk> <unk> tell you lie im feeling you never known each other for so long dont <unk> been aching but youre too shy to say\n"
     ]
    },
    {
     "name": "stderr",
     "output_type": "stream",
     "text": [
      "100%|██████████| 100/100 [00:00<00:00, 126.19it/s]"
     ]
    },
    {
     "name": "stdout",
     "output_type": "stream",
     "text": [
      "Generated Song:\n",
      "\n",
      "\n",
      "Never gonna say goodbye never are no strangers to love you know the rules other were never <unk> a full commitments what im thinking im feeling down never this from any other guy i never youre <unk> tell you how im feeling <unk> <unk> <unk> you understand never <unk> <unk> give you up never <unk> <unk> let you down never <unk> <unk> run around im how you never <unk> <unk> make you understand never <unk> <unk> say goodbye never <unk> <unk> tell you lie im feeling you never known each other for so long dont <unk> been aching but youre too shy to say\n"
     ]
    },
    {
     "name": "stderr",
     "output_type": "stream",
     "text": [
      "\n"
     ]
    }
   ],
   "source": [
    "CONTEXT_SIZE=4\n",
    "model_4 = NGramLanguageModeler(len(vocab), EMBEDDING_DIM, CONTEXT_SIZE).to(device)\n",
    "optimizer = optim.SGD(model_4.parameters(), lr=0.01)\n",
    "scheduler = torch.optim.lr_scheduler.StepLR(optimizer, 1.0, gamma=0.1)\n",
    "my_loss=train(dataloader,model_4,song)\n",
    "\n",
    "save_path = '4gram.pth'\n",
    "torch.save(model_4.state_dict(), save_path)\n",
    "\n",
    "my_loss_list.append(my_loss)"
   ]
  },
  {
   "cell_type": "markdown",
   "id": "2ea8e833-c40d-423b-a735-c6a5ba238a44",
   "metadata": {},
   "source": [
    "The code provided below shows word embeddings from the created model, reduces their dimensionality to 2d using t-SNE, and then plots them as a scatter plot. Additionally, it annotates the first 20 points in the visualization with their corresponding words. This is used to visualize how similar words cluster together in a lower-dimensional space, revealing the structure of the word embeddings. Embeddings allow the model to represent words in a continuous vector space, capturing semantic relationships and similarities between words.\n"
   ]
  },
  {
   "cell_type": "code",
   "execution_count": 54,
   "id": "c428921c-79ec-462c-a01e-fce138f3f351",
   "metadata": {},
   "outputs": [
    {
     "data": {
      "image/png": "[encoded data removed]",
      "text/plain": [
       "<Figure size 640x480 with 1 Axes>"
      ]
     },
     "metadata": {},
     "output_type": "display_data"
    }
   ],
   "source": [
    "X = model_4.embeddings.weight.cpu().detach().numpy()\n",
    "tsne = TSNE(n_components=2, random_state=42)\n",
    "X_2d = tsne.fit_transform(X)\n",
    "\n",
    "labels = []\n",
    "\n",
    "for j in range(len(X_2d)):\n",
    "    if j < 20:\n",
    "        plt.scatter(X_2d[j, 0], X_2d[j, 1], label=index_to_token[j])\n",
    "        labels.append(index_to_token[j])\n",
    "        # Add words as annotations\n",
    "        plt.annotate(index_to_token[j],\n",
    "                     (X_2d[j, 0], X_2d[j, 1]),\n",
    "                     textcoords=\"offset points\",\n",
    "                     xytext=(0, 10),\n",
    "                     ha='center')\n",
    "    else:\n",
    "        plt.scatter(X_2d[j, 0], X_2d[j, 1])\n",
    "\n",
    "plt.legend(labels, loc='upper left', bbox_to_anchor=(1, 1))\n",
    "plt.show()"
   ]
  },
  {
   "cell_type": "markdown",
   "id": "52f16838-ae2a-4dba-8077-5661fb88d0c6",
   "metadata": {},
   "source": [
    "Finally, for a context of eight.\n"
   ]
  },
  {
   "cell_type": "code",
   "execution_count": 55,
   "id": "c2a97d3a-e365-4666-a7a2-4e1728da71fa",
   "metadata": {},
   "outputs": [
    {
     "name": "stderr",
     "output_type": "stream",
     "text": [
      " 30%|███       | 30/100 [00:00<00:00, 146.03it/s]"
     ]
    },
    {
     "name": "stdout",
     "output_type": "stream",
     "text": [
      "Generated Song:\n",
      "\n",
      "\n",
      "Dont tell me youre too blind to see tell <unk> around make this around never make make make make make hearts make this make make never make you make make make around <unk> make make make <unk> been make make make make <unk> make make <unk> make tell make you make <unk> make <unk> make make make tell make <unk> make make make <unk> <unk> <unk> make you make around make <unk> <unk> <unk> make you tell you <unk> <unk> make make make make <unk> make <unk> never make <unk> make tell <unk> make make tell make make make make make never too make make make make make\n",
      "Generated Song:\n",
      "\n",
      "\n",
      "Inside we both know whats been going on <unk> <unk> im give tell tell never give the rules tell <unk> <unk> <unk> <unk> give give you im <unk> tell you you tell <unk> <unk> <unk> <unk> guy i to to <unk> make you you <unk> <unk> <unk> <unk> give you <unk> <unk> <unk> <unk> give you <unk> never <unk> <unk> give you <unk> <unk> <unk> <unk> give you <unk> never <unk> tell <unk> <unk> make you im never <unk> <unk> give you <unk> never <unk> tell you never never <unk> <unk> <unk> <unk> never give you make <unk> you <unk> <unk> give never you too shy to say\n",
      "Generated Song:\n",
      "\n",
      "\n",
      "Never gonna give you up <unk> <unk> im strangers to tell never give the rules to <unk> im <unk> to guy give to im thinking im never you to <unk> <unk> a <unk> guy i to im <unk> make you cry im feeling <unk> <unk> give you im <unk> <unk> <unk> give you up never <unk> <unk> give you lie never <unk> <unk> run you up never <unk> tell <unk> <unk> make you cry never <unk> <unk> give you <unk> im <unk> tell a lie never <unk> <unk> <unk> <unk> never other for so long im <unk> tell to on and too shy to say\n",
      "Generated Song:\n",
      "\n",
      "\n",
      "Dont tell me youre too blind to see <unk> <unk> im strangers to tell never give the rules too <unk> im <unk> to guy give to im thinking im never you to <unk> <unk> a <unk> guy i shy im <unk> make you cry im feeling <unk> <unk> give you im <unk> <unk> <unk> give you up never <unk> <unk> give a lie never <unk> <unk> run around up never <unk> tell <unk> <unk> make you cry never <unk> <unk> give you up im <unk> tell a lie never <unk> <unk> <unk> <unk> to other for so long cry <unk> tell to on rules too shy to say\n"
     ]
    },
    {
     "name": "stderr",
     "output_type": "stream",
     "text": [
      " 61%|██████    | 61/100 [00:00<00:00, 139.97it/s]"
     ]
    },
    {
     "name": "stdout",
     "output_type": "stream",
     "text": [
      "Generated Song:\n",
      "\n",
      "\n",
      "Never gonna tell a lie and hurt you <unk> <unk> im strangers to me never give the rules too <unk> im <unk> to guy give to im thinking im never up to <unk> <unk> a to guy i shy im thinking make you cry im feeling <unk> <unk> give you cry <unk> <unk> <unk> give you up never <unk> <unk> give a lie never <unk> <unk> run around up never <unk> tell <unk> <unk> make you cry never <unk> <unk> give you up im <unk> tell a lie never <unk> <unk> <unk> <unk> thinking other for so long cry guy tell to on rules too shy to say\n",
      "Generated Song:\n",
      "\n",
      "\n",
      "Never gonna let you down <unk> <unk> im strangers to me never give the rules too <unk> im <unk> to guy other play im thinking im never up to <unk> <unk> a to guy i shy im thinking make you cry im feeling <unk> <unk> give you cry <unk> <unk> <unk> give you up never <unk> <unk> give a lie never <unk> <unk> run around up never <unk> tell <unk> <unk> make you cry never <unk> <unk> give you up im <unk> tell a lie never <unk> <unk> <unk> <unk> thinking other for so long cry guy tell to on rules too shy to say\n",
      "Generated Song:\n",
      "\n",
      "\n",
      "Never gonna say goodbye <unk> <unk> im strangers to me never give the rules too <unk> im <unk> to guy other play im thinking im never up to <unk> <unk> a to guy i shy im thinking make you cry im feeling <unk> <unk> give you cry <unk> <unk> <unk> give you up never <unk> <unk> give a lie never <unk> <unk> run around up never <unk> tell <unk> <unk> make you cry never <unk> <unk> give you up im <unk> tell a lie never <unk> <unk> <unk> <unk> thinking other for so long cry guy tell to on rules too shy to say\n",
      "Generated Song:\n",
      "\n",
      "\n",
      "Inside we both know whats been going on <unk> <unk> im strangers to me never give the rules too <unk> im <unk> to guy other play im thinking im never up to <unk> <unk> a to guy i shy im thinking make you cry im feeling <unk> <unk> give you cry <unk> <unk> <unk> give you up never <unk> <unk> give a lie never <unk> <unk> run around up never <unk> tell <unk> <unk> make you cry never <unk> <unk> give you up im <unk> tell a lie never <unk> <unk> <unk> <unk> thinking other for so long cry guy tell to on rules too shy to say\n"
     ]
    },
    {
     "name": "stderr",
     "output_type": "stream",
     "text": [
      "100%|██████████| 100/100 [00:00<00:00, 144.64it/s]"
     ]
    },
    {
     "name": "stdout",
     "output_type": "stream",
     "text": [
      "Generated Song:\n",
      "\n",
      "\n",
      "Never gonna tell a lie and hurt you <unk> <unk> im strangers to me never give the rules too <unk> im <unk> to guy other going im thinking im never up to <unk> <unk> a to guy i shy im thinking make you cry im feeling <unk> <unk> give you cry <unk> <unk> <unk> give you up never <unk> <unk> give a lie never <unk> <unk> run around up never <unk> tell <unk> <unk> make you cry never <unk> <unk> give you up im <unk> tell a lie never <unk> <unk> <unk> <unk> thinking other for so long cry guy tell to on rules too shy to say\n",
      "Generated Song:\n",
      "\n",
      "\n",
      "Never gonna give you up <unk> <unk> im strangers to me never give the rules too <unk> im <unk> to guy other going im thinking im never up to <unk> im a to guy i shy im thinking make you cry im feeling <unk> <unk> give you cry <unk> <unk> <unk> give you up never <unk> <unk> give a lie never <unk> <unk> run around up never <unk> tell <unk> <unk> make you cry never <unk> <unk> give you up im <unk> tell a lie never <unk> <unk> <unk> <unk> thinking other for so long cry guy tell to on rules too shy to say\n"
     ]
    },
    {
     "name": "stderr",
     "output_type": "stream",
     "text": [
      "\n"
     ]
    }
   ],
   "source": [
    "CONTEXT_SIZE=8\n",
    "model_8 = NGramLanguageModeler(len(vocab), EMBEDDING_DIM, CONTEXT_SIZE).to(device)\n",
    "optimizer = optim.SGD(model_8.parameters(), lr=0.01)\n",
    "\n",
    "scheduler = torch.optim.lr_scheduler.StepLR(optimizer, 1.0, gamma=0.1)\n",
    "my_loss=train(dataloader,model_8,song)\n",
    "\n",
    "save_path = '8gram.pth'\n",
    "torch.save(model_8.state_dict(), save_path)\n",
    "\n",
    "my_loss_list.append(my_loss)"
   ]
  },
  {
   "cell_type": "markdown",
   "id": "9e91eb94-4a87-4e42-b6c8-9f4383bf62da",
   "metadata": {},
   "source": [
    "The code provided below shows word embeddings from the created model, reduces their dimensionality to 2D using t-SNE, and then plots them as a scatter plot. Additionally, it annotates the first 20 points in the visualization with their corresponding words. This is used to visualize how similar words cluster together in a lower-dimensional space, revealing the structure of the word embeddings. Embeddings allow the model to represent words in a continuous vector space, capturing semantic relationships and similarities between words.\n"
   ]
  },
  {
   "cell_type": "code",
   "execution_count": 56,
   "id": "d60c24f6-2945-49bf-9891-d7a5e8b3cc07",
   "metadata": {},
   "outputs": [
    {
     "data": {
      "image/png": "[encoded data removed]",
      "text/plain": [
       "<Figure size 640x480 with 1 Axes>"
      ]
     },
     "metadata": {},
     "output_type": "display_data"
    }
   ],
   "source": [
    "X = model_8.embeddings.weight.cpu().detach().numpy()\n",
    "tsne = TSNE(n_components=2, random_state=42)\n",
    "X_2d = tsne.fit_transform(X)\n",
    "\n",
    "labels = []\n",
    "\n",
    "for j in range(len(X_2d)):\n",
    "    if j < 20:\n",
    "        plt.scatter(X_2d[j, 0], X_2d[j, 1], label=index_to_token[j])\n",
    "        labels.append(index_to_token[j])\n",
    "        # Add words as annotations\n",
    "        plt.annotate(index_to_token[j],\n",
    "                     (X_2d[j, 0], X_2d[j, 1]),\n",
    "                     textcoords=\"offset points\",\n",
    "                     xytext=(0, 10),\n",
    "                     ha='center')\n",
    "    else:\n",
    "        plt.scatter(X_2d[j, 0], X_2d[j, 1])\n",
    "\n",
    "plt.legend(labels, loc='upper left', bbox_to_anchor=(1, 1))\n",
    "plt.show()"
   ]
  },
  {
   "cell_type": "markdown",
   "id": "a37d1f85-163b-473a-8894-ff7bb7b02bf0",
   "metadata": {},
   "source": [
    "When considering the plotted loss for each model, a discernible trend emerges: an increase in context size correlates with a reduction in loss. While this specific approach lacks the inclusion of model validation or the utilization of conventional NLP evaluation metrics, the visual evidence substantiates its superior performance. \n"
   ]
  },
  {
   "cell_type": "code",
   "execution_count": 57,
   "id": "9532304c-7773-4425-ad4d-b2ef1e28b011",
   "metadata": {},
   "outputs": [
    {
     "data": {
      "image/png": "[encoded data removed]",
      "text/plain": [
       "<Figure size 640x480 with 1 Axes>"
      ]
     },
     "metadata": {},
     "output_type": "display_data"
    }
   ],
   "source": [
    "for (my_loss, model_name)in zip(my_loss_list,[\"2-gram\",\"4-gram\",\"8-gram\"]):\n",
    "    plt.plot(my_loss,label=\"Cross-entropy Loss - {}\".format(model_name))\n",
    "    plt.legend()"
   ]
  },
  {
   "cell_type": "markdown",
   "id": "7c889ad3-cc00-47f8-9674-ef71f6fbbbee",
   "metadata": {},
   "source": [
    "## Perplexity\n",
    "Perplexity is a measurement used to evaluate the effectiveness of language models or probability models. It provides an indication of how well a model predicts a sample of data or the likelihood of an unseen event. Perplexity is commonly used in natural language processing tasks, such as machine translation, speech recognition, and language generation.\n",
    "\n",
    "Perplexity is derived from the concept of cross-entropy loss, which measures the dissimilarity between predicted probabilities and actual probabilities. \n",
    "\n",
    "$$\\text{Cross-Entropy Loss} = -\\sum_{i=1}^{N} y_i \\ln(p_i)$$\n",
    "The cross-entropy loss is calculated by taking the negative sum of the products of the true labels $y_i$ and the logarithm of the predicted probabilities $p_i$ over $N$ classes.\n",
    "\n",
    "Taking the exponential of the mean cross-entropy loss gives us the perplexity value.\n",
    "\n",
    "$$\\text{Perplexity} = e^{\\frac{1}{N} \\text{Cross-Entropy Loss}}$$\n",
    "\n",
    "\n",
    "A lower perplexity value indicates that the model is more confident and accurate in predicting the data. Conversely, a higher perplexity suggests that the model is less certain and less accurate in its predictions.\n",
    "\n",
    "Perplexity can be seen as an estimate of the average number of choices the model has for the next word or event in a sequence. A lower perplexity means that the model is more certain about the next word, while a higher perplexity means that there are more possible choices.\n"
   ]
  },
  {
   "cell_type": "code",
   "execution_count": 58,
   "id": "e57d7326-b735-4f14-a54b-9b7155ddac21",
   "metadata": {},
   "outputs": [
    {
     "data": {
      "image/png": "[encoded data removed]",
      "text/plain": [
       "<Figure size 640x480 with 1 Axes>"
      ]
     },
     "metadata": {},
     "output_type": "display_data"
    }
   ],
   "source": [
    "for (my_loss, model_name)in zip(my_loss_list,[\"2-gram\",\"4-gram\",\"8-gram\"]):\n",
    "    # Calculate perplexity using the loss\n",
    "    perplexity = np.exp(my_loss)\n",
    "    plt.plot(perplexity,label=\"Perplexity - {}\".format(model_name))\n",
    "    plt.legend()"
   ]
  },
  {
   "cell_type": "markdown",
   "id": "36ae2ea5-69be-427f-99b9-19a182d8e3a0",
   "metadata": {},
   "source": [
    "# Exercises\n"
   ]
  },
  {
   "cell_type": "markdown",
   "id": "7cae33f4-a079-4cfc-aac7-69499d9c63d8",
   "metadata": {},
   "source": [
    "### Exercise 1 - Source a collection of nursery rhymes and compile them into a single text variable.\n"
   ]
  },
  {
   "cell_type": "code",
   "execution_count": 59,
   "id": "5c6ef6a9-94bc-4e2b-9853-27fe552eb495",
   "metadata": {},
   "outputs": [],
   "source": [
    "# Write your code here.\n",
    "\n",
    "nursery_rhymes = \"\"\"\n",
    "Little Miss Muffet\n",
    "Sat on a tuffet,\n",
    "Eating her curds and whey;\n",
    "Along came a spider\n",
    "Who sat down beside her\n",
    "And frightened Miss Muffet away.\n",
    "\n",
    "Twinkle, twinkle, little star,\n",
    "How I wonder what you are!\n",
    "Up above the world so high,\n",
    "Like a diamond in the sky.\n",
    "\n",
    "Baa, baa, black sheep,\n",
    "Have you any wool?\n",
    "Yes sir, yes sir,\n",
    "Three bags full.\n",
    "\n",
    "Jack and Jill went up the hill\n",
    "To fetch a pail of water.\n",
    "Jack fell down and broke his crown,\n",
    "And Jill came tumbling after.\n",
    "\n",
    "Hickory dickory dock,\n",
    "The mouse ran up the clock.\n",
    "The clock struck one,\n",
    "The mouse ran down,\n",
    "Hickory dickory dock.\n",
    "\n",
    "Humpty Dumpty sat on a wall,\n",
    "Humpty Dumpty had a great fall.\n",
    "All the king's horses and all the king's men\n",
    "Couldn't put Humpty together again.\n",
    "\n",
    "Mary had a little lamb,\n",
    "Its fleece was white as snow;\n",
    "And everywhere that Mary went,\n",
    "The lamb was sure to go.\n",
    "\n",
    "Old MacDonald had a farm,\n",
    "E-I-E-I-O,\n",
    "And on his farm he had a cow,\n",
    "E-I-E-I-O.\n",
    "\n",
    "Itsy Bitsy Spider climbed up the waterspout.\n",
    "Down came the rain and washed the spider out.\n",
    "Out came the sun and dried up all the rain,\n",
    "And the Itsy Bitsy Spider climbed up the spout again.\n",
    "\n",
    "The wheels on the bus go round and round,\n",
    "Round and round,\n",
    "Round and round.\n",
    "The wheels on the bus go round and round,\n",
    "All through the town.\n",
    "\n",
    "\"\"\""
   ]
  },
  {
   "cell_type": "markdown",
   "id": "aa7dd6b8-5bb8-4ca3-bf49-18ad8b0d892e",
   "metadata": {},
   "source": [
    "### Exercise 2 - Preprocess the text data to tokenize and create n-grams.\n"
   ]
  },
  {
   "cell_type": "code",
   "execution_count": 60,
   "id": "5239776a-002f-472d-be2d-fb828d983036",
   "metadata": {},
   "outputs": [],
   "source": [
    "# Write your code here.\n",
    "\n",
    "N = 2 \n",
    "tokens = preprocess(nursery_rhymes)\n",
    "ngrams = genngrams(tokens)\n",
    "context, target = ngrams[0]\n"
   ]
  },
  {
   "cell_type": "markdown",
   "id": "c5301497-822b-4e75-99dd-ed386ce68fcd",
   "metadata": {},
   "source": [
    "<details>\n",
    "    <summary>Click here for Solution</summary>\n",
    "\n",
    "```python\n",
    "# Define the value of N for N-grams (context size)\n",
    "N = 2  \n",
    "\n",
    "# Preprocess the text (e.g., nursery rhymes) to tokenize and clean it\n",
    "tokens = preprocess(nursery_rhymes)  # Use the preprocess function to tokenize the text\n",
    "\n",
    "# Generate N-grams using the `genngrams` function\n",
    "ngrams = genngrams(tokens)  \n",
    "\n",
    "# Extract the first context-target pair from the list of N-grams\n",
    "context, target = ngrams[0]  \n",
    "```\n",
    "\n",
    "</details>\n"
   ]
  },
  {
   "cell_type": "markdown",
   "id": "c52e3c22-1c55-4fea-9a20-cc3d166f50ee",
   "metadata": {},
   "source": [
    "### Exercise 3 - Convert Context Words into Embeddings and Pass Them Through a Linear Layer\n"
   ]
  },
  {
   "cell_type": "code",
   "execution_count": 63,
   "id": "2f0d74c8-789c-4f2f-89bd-57fc7ef39794",
   "metadata": {},
   "outputs": [
    {
     "name": "stdout",
     "output_type": "stream",
     "text": [
      "Output shape: torch.Size([1, 128])\n"
     ]
    }
   ],
   "source": [
    "# Write your code here.\n",
    "\n",
    "vocab = tokenizetext(nursery_rhymes)\n",
    "embedding_dim = 20\n",
    "linear = nn.Linear(embedding_dim * CONTEXT_SIZE, 128)\n",
    "embeddings = genembedding(vocab)\n",
    "my_embeddings = embeddings(torch.tensor(vocab(context)))\n",
    "my_embeddings = my_embeddings.reshape(1, -1)\n",
    "output = linear(my_embeddings)\n",
    "print(\"Output shape:\", output.shape)"
   ]
  },
  {
   "cell_type": "markdown",
   "id": "d3df92a4-0642-498d-8df9-e26847f007e0",
   "metadata": {},
   "source": [
    "<details>\n",
    "    <summary>Click here for Solution</summary>\n",
    "\n",
    "```python\n",
    "\n",
    "# Tokenize text and create vocabulary\n",
    "vocab = tokenizetext(nursery_rhymes)  \n",
    "\n",
    "\n",
    "# Define embedding dimensions and create layers\n",
    "embedding_dim = 20  # Each word will be represented as a 20-dimensional vector\n",
    "linear = nn.Linear(embedding_dim * CONTEXT_SIZE, 128)  \n",
    "\n",
    "\n",
    "# Generate embeddings using the custom embedding function\n",
    "embeddings = genembedding(vocab)  \n",
    "\n",
    "\n",
    "# Convert context words into embeddings\n",
    "my_embeddings = embeddings(torch.tensor(vocab(context)))  \n",
    "\n",
    "\n",
    "# Reshape embeddings to match the input shape required by the linear layer\n",
    "my_embeddings = my_embeddings.reshape(1, -1)  \n",
    "\n",
    "\n",
    "# Pass embeddings through the linear layer\n",
    "output = linear(my_embeddings)  \n",
    "\n",
    "\n",
    "# Print output shape for verification\n",
    "print(\"Output shape:\", output.shape)  \n",
    "\n",
    "\n",
    "\n",
    "```\n",
    "\n",
    "</details>\n"
   ]
  },
  {
   "cell_type": "markdown",
   "id": "7df7fb10-7037-4510-a2b3-f748778b0c84",
   "metadata": {},
   "source": [
    "### Exercise 4 -  Implement Batch Processing with Padding for Language Modeling.\n"
   ]
  },
  {
   "cell_type": "code",
   "execution_count": 64,
   "id": "4141a5dc-1209-4a68-94f2-b678381767b2",
   "metadata": {},
   "outputs": [
    {
     "name": "stdout",
     "output_type": "stream",
     "text": [
      "Total tokens (after padding): 240\n"
     ]
    }
   ],
   "source": [
    "# Write your code here.\n",
    "CONTEXT_SIZE = 3\n",
    "BATCH_SIZE = 10\n",
    "EMBEDDING_DIM = 10\n",
    "\n",
    "Padding = BATCH_SIZE - len(tokens) % BATCH_SIZE\n",
    "\n",
    "tokens_pad = tokens +tokens[0:Padding]\n",
    "\n",
    "device = torch.device(\"cuda\" if torch.cuda.is_available() else \"cpu\")\n",
    "\n",
    "dataloader = DataLoader(\n",
    "    tokens_pad, batch_size=BATCH_SIZE, shuffle=False, collate_fn=collate_batch\n",
    ")\n",
    "\n",
    "print(f\"Total tokens (after padding): {len(tokens_pad)}\")"
   ]
  },
  {
   "cell_type": "markdown",
   "id": "5d1789fc-25a4-46f2-b494-b685a239c2bb",
   "metadata": {},
   "source": [
    "<details>\n",
    "    <summary>Click here for Solution</summary>\n",
    "\n",
    "```python\n",
    "# Define constants for training\n",
    "CONTEXT_SIZE = 3  # The number of words in the context window\n",
    "BATCH_SIZE = 10   # The number of samples per batch\n",
    "EMBEDDING_DIM = 10  # The dimension of the word embeddings\n",
    "\n",
    "# Compute padding to ensure the number of tokens is evenly divisible by the batch size\n",
    "Padding = BATCH_SIZE - len(tokens) % BATCH_SIZE  \n",
    "\n",
    "\n",
    "tokens_pad = tokens + tokens[0:Padding]  \n",
    "\n",
    "\n",
    "# Define device (CPU/GPU) for computation\n",
    "device = torch.device(\"cuda\" if torch.cuda.is_available() else \"cpu\")  \n",
    "\n",
    "\n",
    "# Create DataLoader for batch processing\n",
    "dataloader = DataLoader(\n",
    "    tokens_pad, batch_size=BATCH_SIZE, shuffle=False, collate_fn=collate_batch\n",
    ")  \n",
    "\n",
    "\n",
    "# Print length of total tokens after padding\n",
    "print(f\"Total tokens (after padding): {len(tokens_pad)}\")\n",
    "\n",
    "\n",
    "```\n",
    "\n",
    "</details>\n"
   ]
  },
  {
   "cell_type": "markdown",
   "id": "4255e7c6-336c-434b-8e7f-c5d4eb6d3218",
   "metadata": {},
   "source": [
    "### Exercise 5 - Train an N-gram language model using the provided code structure.\n"
   ]
  },
  {
   "cell_type": "code",
   "execution_count": 69,
   "id": "0dbe4c60-2635-43c2-b2c7-e9862dc9096f",
   "metadata": {},
   "outputs": [
    {
     "name": "stderr",
     "output_type": "stream",
     "text": [
      " 39%|███▉      | 39/100 [00:00<00:00, 193.30it/s]"
     ]
    },
    {
     "name": "stdout",
     "output_type": "stream",
     "text": [
      "Generated Song:\n",
      "\n",
      "\n",
      "Old MacDonald had a farm, itsy the the fell fell jill went old fell dumpty the the , diamond fell again fell cow dumpty went the dumpty the sat jill fell fell went went everywhere tuffet again again went fell fell fell up fell muffet sat sat couldn fell went , went went again fell up up go went wheels again fell went couldn three couldn three fell fell what muffet old what fell the what went go went wheels the up fell mouse three the go muffet whey went old the fell , went cow had the what fell sat the the went the\n",
      "Generated Song:\n",
      "\n",
      "\n",
      " the the the the the the the the the the the the the the the the the the the the the the the the the the the the the the the the the and the the the the the the the the the the the the the the the the the up the the the the the and the the the the the the the the the the the the the the the the the the the the the and the the the the the the the the the the the the the the the the the the the the\n",
      "Generated Song:\n",
      "\n",
      "\n",
      "Its fleece was white as snow; the the the the the the the the the the the the the the the the the the the the the the the the the the the and and the the the the and the the and the the the the the and the the the the the the the the and the the the and the and the the the the the the and the the the the the the the the the and the and the the and the and the and the the the the the the and the the the the the the the the the\n",
      "Generated Song:\n",
      "\n",
      "\n",
      "And Jill came tumbling after. and the the the the the a the the the the the the a the the the the the the the the the the and the the and and the the the the and the the and the the round the the and the the the the the the the the up the the the and the and a the a the the the and the the the the the the the the round and the and the the and the and the and a the the the the the and the the the the the the the the the\n"
     ]
    },
    {
     "name": "stderr",
     "output_type": "stream",
     "text": [
      " 80%|████████  | 80/100 [00:00<00:00, 198.13it/s]"
     ]
    },
    {
     "name": "stdout",
     "output_type": "stream",
     "text": [
      "Generated Song:\n",
      "\n",
      "\n",
      "Who sat down beside her and the muffet the the the a the the the the the the a the round the up and and a a the the and the the and and and a the the and the the and the the round the spider and the round the the spider the the up up the the and and the and a a a the a the and the the the the clock the the a round <unk> the and the a and the and a and a the the spider the the and and spider the the the clock the spider the\n",
      "Generated Song:\n",
      "\n",
      "\n",
      "The lamb was sure to go. and and muffet the the a farm the the the the the the a a spider round up and and a a the round and the the and and and a the the and the the and the the clock the spider and the round the the spider the up up up the the and and the and a a a the a the and the the the the clock the the a round <unk> the and the a and the and a and a the the spider the the and and spider the the the clock the clock the\n",
      "Generated Song:\n",
      "\n",
      "\n",
      "Round and round. and and muffet the the a farm <unk> the the the the the a a spider round up and came a a the round muffet the the twinkle and and a the the what the the and the the clock the spider and the round the the mouse the up up up the you and and the sir a a a the a the and the the the the clock the the a round <unk> the and the a and the the a and jill the the spider the the and and mouse ran the the clock s clock s\n",
      "Generated Song:\n",
      "\n",
      "\n",
      "Sat on a tuffet, and and muffet the on a farm <unk> the curds the the the came a spider round up and came a a the the muffet the the twinkle and and a the the what the are and the the clock the spider and the round the the mouse the baa up up the you any and the sir dumpty sir dumpty the a jack and the the the the clock the the a round <unk> the and the a and the the a and jill the the spider the dickory and and mouse ran the the clock s clock s\n",
      "Generated Song:\n",
      "\n",
      "\n",
      "Humpty Dumpty sat on a wall, and and muffet sat on a tuffet eating the curds the the the came a spider round up and came a a frightened the muffet sat twinkle twinkle and star a the the what you are and the the world the spider and down round in the mouse the baa up up have you any and the sir dumpty sir dumpty sir a jack and the the the the clock the the a round <unk> the and the a and the the crown and jill the the spider the dickory up and mouse ran down the clock s clock s\n"
     ]
    },
    {
     "name": "stderr",
     "output_type": "stream",
     "text": [
      "100%|██████████| 100/100 [00:00<00:00, 184.21it/s]"
     ]
    },
    {
     "name": "stdout",
     "output_type": "stream",
     "text": [
      "Generated Song:\n",
      "\n",
      "\n",
      "And frightened Miss Muffet away. little miss muffet sat on a tuffet eating the curds was the the came a spider who sat down came a curds frightened the muffet sat twinkle twinkle little star a the the what you are and the the world the spider and down round in the mouse the baa up up have you any and the sir yes sir yes sir a jack and the the the the clock the the a round <unk> the jack the down and the the crown and jill the the spider the dickory up humpty mouse ran down the clock s clock s\n"
     ]
    },
    {
     "name": "stderr",
     "output_type": "stream",
     "text": [
      "\n"
     ]
    }
   ],
   "source": [
    "# Write your code here.\n",
    "\n",
    "CONTEXT_SIZE = 2\n",
    "\n",
    "criterion = torch.nn.CrossEntropyLoss()\n",
    "\n",
    "model3 = NGramLanguageModeler(len(vocab), EMBEDDING_DIM, CONTEXT_SIZE).to(device)\n",
    "\n",
    "optimizer = optim.SGD(model3.parameters(), lr=0.01)\n",
    "\n",
    "scheduler = torch.optim.lr_scheduler.StepLR(optimizer, step_size=1, gamma=0.1)\n",
    "\n",
    "loss_history = train(dataloader, model3, nursery_rhymes)"
   ]
  },
  {
   "cell_type": "code",
   "execution_count": 70,
   "metadata": {},
   "outputs": [
    {
     "name": "stdout",
     "output_type": "stream",
     "text": [
      "Training started with 127 words in vocabulary.\n",
      "Optimizer: SGD (\n",
      "Parameter Group 0\n",
      "    dampening: 0\n",
      "    differentiable: False\n",
      "    foreach: None\n",
      "    initial_lr: 0.01\n",
      "    lr: 0.01\n",
      "    maximize: False\n",
      "    momentum: 0\n",
      "    nesterov: False\n",
      "    weight_decay: 0\n",
      ")\n",
      "Learning rate scheduler: <torch.optim.lr_scheduler.StepLR object at 0x1756532b0>\n"
     ]
    }
   ],
   "source": [
    "print(f\"Training started with {len(vocab)} words in vocabulary.\")\n",
    "print(f\"Optimizer: {optimizer}\")\n",
    "print(f\"Learning rate scheduler: {scheduler}\")"
   ]
  },
  {
   "cell_type": "markdown",
   "id": "9d731157-3fff-4aa7-92f8-904d1566b1f0",
   "metadata": {},
   "source": [
    "<details>\n",
    "    <summary>Click here for Solution</summary>\n",
    "\n",
    "```python\n",
    "# Define context size for N-gram modeling\n",
    "CONTEXT_SIZE = 2  # Number of previous words used as context for predicting the next word\n",
    "\n",
    "# Define the loss function\n",
    "criterion = torch.nn.CrossEntropyLoss()  \n",
    "\n",
    "# Initialize the N-gram language model\n",
    "model3 = NGramLanguageModeler(len(vocab), EMBEDDING_DIM, CONTEXT_SIZE).to(device)  \n",
    "\n",
    "\n",
    "# Define the optimizer (Stochastic Gradient Descent)\n",
    "optimizer = optim.SGD(model3.parameters(), lr=0.01)  \n",
    "\n",
    "# Implement Learning Rate Scheduling\n",
    "scheduler = torch.optim.lr_scheduler.StepLR(optimizer, step_size=1, gamma=0.1)  \n",
    "\n",
    "# Train the model and track loss history\n",
    "loss_history = train(dataloader, model3, nursery_rhymes)  \n",
    "\n",
    "\n",
    "# Output expected behavior\n",
    "print(f\"Training started with {len(vocab)} words in vocabulary.\")\n",
    "print(f\"Optimizer: {optimizer}\")\n",
    "print(f\"Learning rate scheduler: {scheduler}\")\n",
    "```\n",
    "\n",
    "</details>\n"
   ]
  },
  {
   "cell_type": "markdown",
   "id": "e2610908-96b9-492c-82b9-da3eb5da24ae",
   "metadata": {},
   "source": [
    "### Exercise 6 - After training, use the model to generate a new nursery rhyme and then print it.\n"
   ]
  },
  {
   "cell_type": "code",
   "execution_count": 72,
   "id": "de15600e-814a-46c0-a883-daa606f93302",
   "metadata": {},
   "outputs": [],
   "source": [
    "# Write your code here.\n",
    "\n",
    "selected_line = pickrandomline(nursery_rhymes)\n",
    "\n",
    "generated_rhyme = write_song(model3, selected_line)"
   ]
  },
  {
   "cell_type": "code",
   "execution_count": 73,
   "metadata": {},
   "outputs": [
    {
     "name": "stdout",
     "output_type": "stream",
     "text": [
      "The lamb was sure to go. little miss muffet sat on a tuffet eating the curds was the the came a spider who sat down came a curds frightened the muffet sat twinkle twinkle little star a the wonder what you are and the the world the spider and down diamond in the sky the baa up up have you any and the sir yes sir yes sir full jack and jill the the the clock ran the a round of the jack the down and the the crown and jill the the after the dickory dock humpty mouse ran down the clock s clock s\n"
     ]
    }
   ],
   "source": [
    "print(generated_rhyme)"
   ]
  },
  {
   "cell_type": "markdown",
   "id": "4234eae0-2420-413b-96d5-0739bcaab095",
   "metadata": {},
   "source": [
    "<details>\n",
    "    <summary>Click here for Solution</summary>\n",
    "\n",
    "```python\n",
    "# Select a random line from the nursery rhymes dataset\n",
    "selected_line = pickrandomline(nursery_rhymes)  \n",
    "\n",
    "\n",
    "# Generate a new rhyme using the trained language model\n",
    "generated_rhyme = write_song(model3, selected_line)  \n",
    "\n",
    "\n",
    "# Print the generated rhyme\n",
    "print(generated_rhyme) \n",
    "\n",
    "```\n",
    "\n",
    "</details>\n"
   ]
  },
  {
   "cell_type": "markdown",
   "id": "74eb0d4b-593f-42df-b952-73309c981e91",
   "metadata": {},
   "source": [
    "---\n"
   ]
  },
  {
   "cell_type": "markdown",
   "id": "bf8bbe59-808a-4e4d-b305-4ebe14e16e87",
   "metadata": {},
   "source": [
    "# Congratulations! You have completed the lab\n"
   ]
  },
  {
   "cell_type": "markdown",
   "id": "8ba14461-3236-4c98-992d-5e24e2ac3808",
   "metadata": {},
   "source": [
    "## Authors\n"
   ]
  },
  {
   "cell_type": "markdown",
   "id": "64534287-f915-4729-a37d-fd48253c44a7",
   "metadata": {},
   "source": [
    "[Joseph Santarcangelo](https://www.linkedin.com/in/joseph-s-50398b136/) has a Ph.D. in Electrical Engineering, his research focused on using machine learning, signal processing, and computer vision to determine how videos impact human cognition. Joseph has been working for IBM since he completed his PhD.\n"
   ]
  },
  {
   "cell_type": "markdown",
   "id": "3438e9d1-b06a-4f85-a870-a1824f53b274",
   "metadata": {},
   "source": [
    "### Contributor\n",
    "\n",
    "[Roodra Kanwar](https://www.linkedin.com/in/roodrakanwar/) is completing his MS in CS specializing in big data from Simon Fraser University. He has previous experience working with machine learning and as a data engineer.\n"
   ]
  },
  {
   "cell_type": "markdown",
   "id": "1ace048c-ae7d-489d-82aa-abf180291f4a",
   "metadata": {},
   "source": [
    "```{## Change log}\n"
   ]
  },
  {
   "cell_type": "markdown",
   "id": "7ba6e9a2-e7e1-4823-a38d-63ed06ccecdd",
   "metadata": {},
   "source": [
    "```{|Date (YYYY-MM-DD)|Version|Changed By|Change Description||-|-|-|-||2023-09-01|0.1|Joseph|Created Lab Template & Guided Project||2023-09-03|0.1|Joseph|Updated Guided Project|}\n"
   ]
  },
  {
   "cell_type": "markdown",
   "id": "12d4c538-7b2b-46d0-a186-df2e82388639",
   "metadata": {},
   "source": [
    "© Copyright IBM Corporation. All rights reserved.\n"
   ]
  }
 ],
 "metadata": {
  "kernelspec": {
   "display_name": "torchenv",
   "language": "python",
   "name": "python3"
  },
  "language_info": {
   "codemirror_mode": {
    "name": "ipython",
    "version": 3
   },
   "file_extension": ".py",
   "mimetype": "text/x-python",
   "name": "python",
   "nbconvert_exporter": "python",
   "pygments_lexer": "ipython3",
   "version": "3.10.16"
  },
  "prev_pub_hash": "81020b346126e8268ecd0bbe106c525c2d52941722854700dee67a50af8be4b0"
 },
 "nbformat": 4,
 "nbformat_minor": 4
}
