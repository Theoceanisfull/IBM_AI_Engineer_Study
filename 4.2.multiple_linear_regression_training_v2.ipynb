{
 "cells": [
  {
   "cell_type": "markdown",
   "id": "86aab41b-d3a8-442c-b2ae-f8382f078ad4",
   "metadata": {},
   "source": [
    "<p style=\"text-align:center\">\n",
    "    <a href=\"https://skills.network\" target=\"_blank\">\n",
    "    <img src=\"https://cf-courses-data.s3.us.cloud-object-storage.appdomain.cloud/assets/logos/SN_web_lightmode.png\" width=\"200\" alt=\"Skills Network Logo\">\n",
    "    </a>\n",
    "</p>\n"
   ]
  },
  {
   "cell_type": "markdown",
   "id": "19671fa3-cc88-4dd7-9d13-4771c510955a",
   "metadata": {},
   "source": [
    "<h1>Linear Regression Multiple Outputs</h1> \n"
   ]
  },
  {
   "cell_type": "markdown",
   "id": "349099ac-4d84-4e61-bd6f-6a3ca6060353",
   "metadata": {},
   "source": [
    "<h2>Objective</h2><ul><li> How to create a complicated models using PyTorch build in functions.</li></ul> \n"
   ]
  },
  {
   "cell_type": "markdown",
   "id": "147a4bf9-e6db-47b0-abb1-9c8852ce3437",
   "metadata": {},
   "source": [
    "<h2>Table of Contents</h2>\n",
    "<p>In this lab, you will create a model the PyTorch way. This will help you more complicated models.</p>\n",
    "\n",
    "<ul>\n",
    "    <li><a href=\"#Makeup-Data\">Make Some Data</a></li>\n",
    "    <li><a href=\"#Model_Cost\">Create the Model and Cost Function the PyTorch way</a></li>\n",
    "    <li><a href=\"#BGD\">Train the Model: Batch Gradient Descent</a></li>\n",
    "</ul>\n",
    "<p>Estimated Time Needed: <strong>20 min</strong></p>\n",
    "\n",
    "<hr>\n"
   ]
  },
  {
   "cell_type": "markdown",
   "id": "f16a02c1-2481-4f15-9ae4-3e8b113db920",
   "metadata": {},
   "source": [
    "<h2>Preparation</h2>\n"
   ]
  },
  {
   "cell_type": "markdown",
   "id": "10abcd32-9997-40c1-b067-1d7d3acf1853",
   "metadata": {},
   "source": [
    "We'll need the following libraries:\n"
   ]
  },
  {
   "cell_type": "code",
   "execution_count": 1,
   "id": "a2972e3d-0337-4085-868c-2b248b79dc83",
   "metadata": {},
   "outputs": [],
   "source": [
    "# Import the libraries we need for this lab\n",
    "\n",
    "from torch import nn,optim\n",
    "import torch\n",
    "import numpy as np\n",
    "import matplotlib.pyplot as plt\n",
    "\n",
    "from mpl_toolkits.mplot3d import Axes3D\n",
    "from torch.utils.data import Dataset, DataLoader\n",
    "import warnings\n",
    "\n",
    "# Suppress all warnings\n",
    "warnings.filterwarnings(\"ignore\")"
   ]
  },
  {
   "cell_type": "markdown",
   "id": "1eb742f7-ee05-444c-90d5-3e18be83b045",
   "metadata": {},
   "source": [
    "Set the random seed:\n"
   ]
  },
  {
   "cell_type": "code",
   "execution_count": 2,
   "id": "2a507b11-fc54-4b6f-8bc4-42f1b0d38fbd",
   "metadata": {},
   "outputs": [
    {
     "data": {
      "text/plain": [
       "<torch._C.Generator at 0x116952f30>"
      ]
     },
     "execution_count": 2,
     "metadata": {},
     "output_type": "execute_result"
    }
   ],
   "source": [
    "# Set the random seed to 1. \n",
    "\n",
    "torch.manual_seed(1)"
   ]
  },
  {
   "cell_type": "markdown",
   "id": "fe6d2844-c67f-43c6-a5e1-c2175a05e863",
   "metadata": {},
   "source": [
    "Use this function for plotting: \n"
   ]
  },
  {
   "cell_type": "code",
   "execution_count": 3,
   "id": "56428494-3686-4e42-bf48-a4ea670dfcde",
   "metadata": {},
   "outputs": [],
   "source": [
    "# The function for plotting 2D\n",
    "\n",
    "def Plot_2D_Plane(model, dataset, n=0):\n",
    "    w1 = model.state_dict()['linear.weight'].numpy()[0][0]\n",
    "    w2 = model.state_dict()['linear.weight'].numpy()[0][1]\n",
    "    b = model.state_dict()['linear.bias'].numpy()\n",
    "\n",
    "    # Data\n",
    "    x1 = dataset.x[:, 0].view(-1, 1).numpy()\n",
    "    x2 = dataset.x[:, 1].view(-1, 1).numpy()\n",
    "    y = dataset.y.numpy()\n",
    "\n",
    "    # Make plane\n",
    "    X, Y = np.meshgrid(np.arange(x1.min(), x1.max(), 0.05), np.arange(x2.min(), x2.max(), 0.05))\n",
    "    yhat = w1 * X + w2 * Y + b\n",
    "\n",
    "    # Plotting\n",
    "    fig = plt.figure()\n",
    "    ax = fig.gca(projection='3d')\n",
    "\n",
    "    ax.plot(x1[:, 0], x2[:, 0], y[:, 0],'ro', label='y') # Scatter plot\n",
    "    \n",
    "    ax.plot_surface(X, Y, yhat) # Plane plot\n",
    "    \n",
    "    ax.set_xlabel('x1 ')\n",
    "    ax.set_ylabel('x2 ')\n",
    "    ax.set_zlabel('y')\n",
    "    plt.title('estimated plane iteration:' + str(n))\n",
    "    ax.legend()\n",
    "\n",
    "    plt.show()"
   ]
  },
  {
   "cell_type": "markdown",
   "id": "52559ec6-5cba-4035-8bda-a2e200da7ab6",
   "metadata": {},
   "source": [
    "<!--Empty Space for separating topics-->\n"
   ]
  },
  {
   "cell_type": "markdown",
   "id": "8d1c45cd-ef2d-4aab-826a-4ff68a8be655",
   "metadata": {},
   "source": [
    "<a name=\"Makeup-Data\"><h2 id=\" #Makeup-Data\" > Make Some Data </h2></a>\n"
   ]
  },
  {
   "cell_type": "markdown",
   "id": "3d8b3d15-6629-4ca3-b0b9-47e59ff2470c",
   "metadata": {},
   "source": [
    "Create a dataset class with two-dimensional features:\n"
   ]
  },
  {
   "cell_type": "code",
   "execution_count": 4,
   "id": "bf351d9b-b908-4092-8906-b3f5b3885553",
   "metadata": {},
   "outputs": [],
   "source": [
    "# Create a 2D dataset\n",
    "\n",
    "class Data2D(Dataset):\n",
    "    \n",
    "    # Constructor\n",
    "    def __init__(self):\n",
    "        self.x = torch.zeros(20, 2)\n",
    "        self.x[:, 0] = torch.arange(-1, 1, 0.1)\n",
    "        self.x[:, 1] = torch.arange(-1, 1, 0.1)\n",
    "        self.w = torch.tensor([[1.0], [1.0]])\n",
    "        self.b = 1\n",
    "        self.f = torch.mm(self.x, self.w) + self.b    \n",
    "        self.y = self.f + 0.1 * torch.randn((self.x.shape[0],1))\n",
    "        self.len = self.x.shape[0]\n",
    "\n",
    "    # Getter\n",
    "    def __getitem__(self, index):          \n",
    "        return self.x[index], self.y[index]\n",
    "    \n",
    "    # Get Length\n",
    "    def __len__(self):\n",
    "        return self.len"
   ]
  },
  {
   "cell_type": "markdown",
   "id": "a2b38d5c-8902-44e9-a2df-6eb6201eb023",
   "metadata": {},
   "source": [
    "Create a dataset object:\n"
   ]
  },
  {
   "cell_type": "code",
   "execution_count": 5,
   "id": "4e53a993-260e-49e4-9c3a-d1517e0f4828",
   "metadata": {},
   "outputs": [],
   "source": [
    "# Create the dataset object\n",
    "\n",
    "data_set = Data2D()"
   ]
  },
  {
   "cell_type": "markdown",
   "id": "8fba1d18-a3ce-422a-a105-21fc46afe264",
   "metadata": {},
   "source": [
    "<a name=\"Model_Cost\"><h2 id=\"Model_Cost\">Create the Model, Optimizer, and Total Loss Function (Cost)</h2></a>\n"
   ]
  },
  {
   "cell_type": "markdown",
   "id": "45582107-80df-41bb-b12a-b3a21de552bc",
   "metadata": {},
   "source": [
    "Create a customized linear regression module: \n"
   ]
  },
  {
   "cell_type": "code",
   "execution_count": 6,
   "id": "045c845a-8af1-4d34-b675-24cebfb3cacc",
   "metadata": {},
   "outputs": [],
   "source": [
    "# Create a customized linear\n",
    "\n",
    "class linear_regression(nn.Module):\n",
    "    \n",
    "    # Constructor\n",
    "    def __init__(self, input_size, output_size):\n",
    "        super(linear_regression, self).__init__()\n",
    "        self.linear = nn.Linear(input_size, output_size)\n",
    "        \n",
    "    # Prediction\n",
    "    def forward(self, x):\n",
    "        yhat = self.linear(x)\n",
    "        return yhat"
   ]
  },
  {
   "cell_type": "markdown",
   "id": "4d8249dd-f394-4fba-aff9-fe96798793c9",
   "metadata": {},
   "source": [
    "Create a model. Use two features: make the input size 2 and the output size 1: \n"
   ]
  },
  {
   "cell_type": "code",
   "execution_count": 7,
   "id": "d35f0fa7-9aca-459a-9970-70f12af67249",
   "metadata": {},
   "outputs": [
    {
     "name": "stdout",
     "output_type": "stream",
     "text": [
      "The parameters:  [Parameter containing:\n",
      "tensor([[ 0.6209, -0.1178]], requires_grad=True), Parameter containing:\n",
      "tensor([0.3026], requires_grad=True)]\n"
     ]
    }
   ],
   "source": [
    "# Create the linear regression model and print the parameters\n",
    "\n",
    "model = linear_regression(2,1)\n",
    "print(\"The parameters: \", list(model.parameters()))"
   ]
  },
  {
   "cell_type": "markdown",
   "id": "d4e1ec5c-e258-46f1-a087-d53c5d6141ae",
   "metadata": {},
   "source": [
    "Create an optimizer  object. Set the learning rate to 0.1. <b>Don't forget to enter the model parameters in the constructor.</b>\n"
   ]
  },
  {
   "cell_type": "markdown",
   "id": "8262fb11-0a12-4ad2-9177-526cb64f415c",
   "metadata": {},
   "source": [
    "<img src=\"https://s3-api.us-geo.objectstorage.softlayer.net/cf-courses-data/CognitiveClass/DL0110EN/notebook_images%20/chapter2/2.6.2paramater_hate.png\" width=\"100\" alt=\"How the optimizer works\">\n"
   ]
  },
  {
   "cell_type": "code",
   "execution_count": 8,
   "id": "0f79f9e9-038e-47fe-a269-2d30bc1cd15e",
   "metadata": {},
   "outputs": [],
   "source": [
    "# Create the optimizer\n",
    "\n",
    "optimizer = optim.SGD(model.parameters(), lr=0.1)"
   ]
  },
  {
   "cell_type": "markdown",
   "id": "07904e0e-cf6e-498a-a5c6-3e51e220d392",
   "metadata": {},
   "source": [
    "Create the criterion function that calculates the total loss or cost:\n"
   ]
  },
  {
   "cell_type": "code",
   "execution_count": 9,
   "id": "20343e51-9c44-411d-b4fd-88da70039eac",
   "metadata": {},
   "outputs": [],
   "source": [
    "# Create the cost function\n",
    "\n",
    "criterion = nn.MSELoss()"
   ]
  },
  {
   "cell_type": "markdown",
   "id": "8f199ad0-c312-4b25-9ee4-bcc2facfdf21",
   "metadata": {},
   "source": [
    "Create a data loader object. Set the batch_size equal to 2: \n"
   ]
  },
  {
   "cell_type": "code",
   "execution_count": 10,
   "id": "55035028-2e4b-4e61-b282-cac2ae96fb38",
   "metadata": {},
   "outputs": [],
   "source": [
    "# Create the data loader\n",
    "\n",
    "train_loader = DataLoader(dataset=data_set, batch_size=2)"
   ]
  },
  {
   "cell_type": "markdown",
   "id": "38503e5a-eb48-4c17-bd64-fd6b69fa24a6",
   "metadata": {},
   "source": [
    "<!--Empty Space for separating topics-->\n"
   ]
  },
  {
   "cell_type": "markdown",
   "id": "f1976831-07ca-427a-89ac-5daf36ac0593",
   "metadata": {},
   "source": [
    "<a name=\"BGD\"><h2 id=\"BGD\">Train the Model via Mini-Batch Gradient Descent</h2></a>\n"
   ]
  },
  {
   "cell_type": "markdown",
   "id": "c88b6b1f-3570-41ae-8c1a-ba795143760f",
   "metadata": {},
   "source": [
    "Run 100 epochs of Mini-Batch Gradient Descent and store the total loss or cost for every iteration. Remember that this is an approximation of the true total loss or cost:\n"
   ]
  },
  {
   "cell_type": "code",
   "execution_count": 11,
   "id": "2d9e3c36-8fd5-41d8-b3c8-319fb2e60938",
   "metadata": {},
   "outputs": [
    {
     "name": "stdout",
     "output_type": "stream",
     "text": [
      "Before Training: \n"
     ]
    },
    {
     "ename": "TypeError",
     "evalue": "FigureBase.gca() got an unexpected keyword argument 'projection'",
     "output_type": "error",
     "traceback": [
      "\u001b[0;31m---------------------------------------------------------------------------\u001b[0m",
      "\u001b[0;31mTypeError\u001b[0m                                 Traceback (most recent call last)",
      "Cell \u001b[0;32mIn[11], line 5\u001b[0m\n\u001b[1;32m      3\u001b[0m LOSS \u001b[38;5;241m=\u001b[39m []\n\u001b[1;32m      4\u001b[0m \u001b[38;5;28mprint\u001b[39m(\u001b[38;5;124m\"\u001b[39m\u001b[38;5;124mBefore Training: \u001b[39m\u001b[38;5;124m\"\u001b[39m)\n\u001b[0;32m----> 5\u001b[0m Plot_2D_Plane(model, data_set)   \n\u001b[1;32m      6\u001b[0m epochs \u001b[38;5;241m=\u001b[39m \u001b[38;5;241m100\u001b[39m\n\u001b[1;32m      8\u001b[0m \u001b[38;5;28;01mdef\u001b[39;00m \u001b[38;5;21mtrain_model\u001b[39m(epochs):    \n",
      "Cell \u001b[0;32mIn[3], line 19\u001b[0m, in \u001b[0;36mPlot_2D_Plane\u001b[0;34m(model, dataset, n)\u001b[0m\n\u001b[1;32m     17\u001b[0m \u001b[38;5;66;03m# Plotting\u001b[39;00m\n\u001b[1;32m     18\u001b[0m fig \u001b[38;5;241m=\u001b[39m plt\u001b[38;5;241m.\u001b[39mfigure()\n\u001b[0;32m---> 19\u001b[0m ax \u001b[38;5;241m=\u001b[39m fig\u001b[38;5;241m.\u001b[39mgca(projection\u001b[38;5;241m=\u001b[39m\u001b[38;5;124m'\u001b[39m\u001b[38;5;124m3d\u001b[39m\u001b[38;5;124m'\u001b[39m)\n\u001b[1;32m     21\u001b[0m ax\u001b[38;5;241m.\u001b[39mplot(x1[:, \u001b[38;5;241m0\u001b[39m], x2[:, \u001b[38;5;241m0\u001b[39m], y[:, \u001b[38;5;241m0\u001b[39m],\u001b[38;5;124m'\u001b[39m\u001b[38;5;124mro\u001b[39m\u001b[38;5;124m'\u001b[39m, label\u001b[38;5;241m=\u001b[39m\u001b[38;5;124m'\u001b[39m\u001b[38;5;124my\u001b[39m\u001b[38;5;124m'\u001b[39m) \u001b[38;5;66;03m# Scatter plot\u001b[39;00m\n\u001b[1;32m     23\u001b[0m ax\u001b[38;5;241m.\u001b[39mplot_surface(X, Y, yhat) \u001b[38;5;66;03m# Plane plot\u001b[39;00m\n",
      "\u001b[0;31mTypeError\u001b[0m: FigureBase.gca() got an unexpected keyword argument 'projection'"
     ]
    },
    {
     "data": {
      "text/plain": [
       "<Figure size 640x480 with 0 Axes>"
      ]
     },
     "metadata": {},
     "output_type": "display_data"
    }
   ],
   "source": [
    "# Train the model\n",
    "\n",
    "LOSS = []\n",
    "print(\"Before Training: \")\n",
    "Plot_2D_Plane(model, data_set)   \n",
    "epochs = 100\n",
    "   \n",
    "def train_model(epochs):    \n",
    "    for epoch in range(epochs):\n",
    "        for x,y in train_loader:\n",
    "            yhat = model(x)\n",
    "            loss = criterion(yhat, y)\n",
    "            LOSS.append(loss.item())\n",
    "            optimizer.zero_grad()\n",
    "            loss.backward()\n",
    "            optimizer.step()     \n",
    "train_model(epochs)\n",
    "print(\"After Training: \")\n",
    "Plot_2D_Plane(model, data_set, epochs)  "
   ]
  },
  {
   "cell_type": "code",
   "execution_count": 12,
   "id": "05d66913-eb4a-4133-9ed2-ebe33d3dbfd2",
   "metadata": {},
   "outputs": [
    {
     "data": {
      "text/plain": [
       "Text(0, 0.5, 'Cost/total loss ')"
      ]
     },
     "execution_count": 12,
     "metadata": {},
     "output_type": "execute_result"
    },
    {
     "data": {
      "image/png": "[encoded data removed]",
      "text/plain": [
       "<Figure size 640x480 with 1 Axes>"
      ]
     },
     "metadata": {},
     "output_type": "display_data"
    }
   ],
   "source": [
    "# Plot out the Loss and iteration diagram\n",
    "\n",
    "plt.plot(LOSS)\n",
    "plt.xlabel(\"Iterations \")\n",
    "plt.ylabel(\"Cost/total loss \")"
   ]
  },
  {
   "cell_type": "markdown",
   "id": "f491d1e1-7438-48f0-abdd-ed949aaea95b",
   "metadata": {},
   "source": [
    "<h3>Practice</h3>\n"
   ]
  },
  {
   "cell_type": "markdown",
   "id": "cb37f006-b602-4e0c-ab37-4759d2dbd7f7",
   "metadata": {},
   "source": [
    "Create a new <code>model1</code>. Train the model with a batch size 10 and learning rate 0.1, store the loss or total cost in a list <code>LOSS1</code>, and plot the results.\n"
   ]
  },
  {
   "cell_type": "code",
   "execution_count": 13,
   "id": "3da4f34c-8585-46fd-861a-6ba267905db6",
   "metadata": {},
   "outputs": [],
   "source": [
    "# Practice create model1. Train the model with batch size 10 and learning rate 0.1, store the loss in a list <code>LOSS1</code>. Plot the results.\n",
    "\n",
    "data_set = Data2D()"
   ]
  },
  {
   "cell_type": "markdown",
   "id": "dc762333-1bca-4345-9312-13222dd0c1ad",
   "metadata": {},
   "source": [
    "Double-click <b>here</b> for the solution.\n",
    "\n",
    "<!-- Your answer is below:\n",
    "train_loader = DataLoader(dataset = data_set, batch_size = 10)\n",
    "model1 = linear_regression(2, 1)\n",
    "optimizer = optim.SGD(model1.parameters(), lr = 0.1)\n",
    "LOSS1 = []\n",
    "epochs = 100\n",
    "def train_model(epochs):    \n",
    "    for epoch in range(epochs):\n",
    "        for x,y in train_loader:\n",
    "            yhat = model1(x)\n",
    "            loss = criterion(yhat,y)\n",
    "            LOSS1.append(loss.item())\n",
    "            optimizer.zero_grad()\n",
    "            loss.backward()\n",
    "            optimizer.step()     \n",
    "train_model(epochs)\n",
    "Plot_2D_Plane(model1 , data_set)  \n",
    "plt.plot(LOSS1)\n",
    "plt.xlabel(\"iterations \")\n",
    "plt.ylabel(\"Cost/total loss \")\n",
    "-->\n"
   ]
  },
  {
   "cell_type": "markdown",
   "id": "ac88d2be-cdec-4391-b785-168c50ee9b5d",
   "metadata": {},
   "source": [
    "Use the following validation data to calculate the total loss or cost for both models:\n"
   ]
  },
  {
   "cell_type": "code",
   "execution_count": 15,
   "id": "290e5537-ec9e-4738-8aae-593fb83c5e49",
   "metadata": {},
   "outputs": [
    {
     "name": "stdout",
     "output_type": "stream",
     "text": [
      "cost for model: 1.1696536540985107\n",
      "Cost for model: 1.1696536540985107\n"
     ]
    }
   ],
   "source": [
    "torch.manual_seed(2)\n",
    "\n",
    "validation_data = Data2D()\n",
    "Y = validation_data.y\n",
    "X = validation_data.x\n",
    "\n",
    "print(f'cost for model: {criterion(model(X), Y)}')\n",
    "print(f'Cost for model: {criterion(model(X), Y)}')"
   ]
  },
  {
   "cell_type": "markdown",
   "id": "6d103ac9-5865-4f23-b788-2ca0610435f2",
   "metadata": {},
   "source": [
    "Double-click <b>here</b> for the solution.\n",
    "<!-- Your answer is below:\n",
    "print(\"total loss or cost for model: \",criterion(model(X),Y))\n",
    "print(\"total loss or cost for model: \",criterion(model1(X),Y))\n",
    "-->\n"
   ]
  },
  {
   "cell_type": "markdown",
   "id": "9b6fc48b-1e4f-4070-b12e-4d3b26c2e4d8",
   "metadata": {},
   "source": [
    "\n",
    "\n",
    "<a href=\"https://dataplatform.cloud.ibm.com/registration/stepone?utm_source=skills_network&utm_content=in_lab_content_link&utm_id=Lab-IBMDeveloperSkillsNetwork-DL0110EN-SkillsNetwork&context=cpdaas&apps=data_science_experience%2Cwatson_machine_learning\"><img src=\"https://cf-courses-data.s3.us.cloud-object-storage.appdomain.cloud/IBMDeveloperSkillsNetwork-DL0110EN-SkillsNetwork/Template/module%201/images/Watson_Studio.png\"></a>\n"
   ]
  },
  {
   "cell_type": "markdown",
   "id": "fbed519c-e338-4f91-bcc3-71cefa78d792",
   "metadata": {},
   "source": [
    "<!--Empty Space for separating topics-->\n"
   ]
  },
  {
   "cell_type": "markdown",
   "id": "d57034c2-72d9-410e-888b-07a636385205",
   "metadata": {},
   "source": [
    "<h2>About the Authors:</h2> \n",
    "\n",
    "<a href=\"https://www.linkedin.com/in/joseph-s-50398b136/\">Joseph Santarcangelo</a> has a PhD in Electrical Engineering, his research focused on using machine learning, signal processing, and computer vision to determine how videos impact human cognition. Joseph has been working for IBM since he completed his PhD. \n"
   ]
  },
  {
   "cell_type": "markdown",
   "id": "acab9511-fb27-4be4-9402-b84aea77313c",
   "metadata": {},
   "source": [
    "Other contributors: <a href=\"https://www.linkedin.com/in/michelleccarey/\">Michelle Carey</a>, <a href=\"https://www.linkedin.com/in/jiahui-mavis-zhou-a4537814a\">Mavis Zhou</a>\n"
   ]
  },
  {
   "cell_type": "markdown",
   "id": "4c557933-cd5f-4679-90fa-b23adcfd8bf8",
   "metadata": {},
   "source": [
    "<!--\n",
    "## Change Log\n",
    "\n",
    "|  Date (YYYY-MM-DD) |  Version | Changed By  |  Change Description |\n",
    "|---|---|---|---|\n",
    "| 2020-09-23  | 2.0  | Shubham  |  Migrated Lab to Markdown and added to course repo in GitLab |\n",
    "-->\n"
   ]
  },
  {
   "cell_type": "markdown",
   "id": "d1bbc21e-7402-4edf-83c3-5faee13444d7",
   "metadata": {},
   "source": [
    "<hr>\n"
   ]
  },
  {
   "cell_type": "markdown",
   "id": "1441237e-ea87-4b2f-a5de-11aff37dddcd",
   "metadata": {},
   "source": [
    "\n",
    "## <h3 align=\"center\"> &#169; IBM Corporation. All rights reserved. <h3/>\n"
   ]
  }
 ],
 "metadata": {
  "kernelspec": {
   "display_name": "base",
   "language": "python",
   "name": "python3"
  },
  "language_info": {
   "codemirror_mode": {
    "name": "ipython",
    "version": 3
   },
   "file_extension": ".py",
   "mimetype": "text/x-python",
   "name": "python",
   "nbconvert_exporter": "python",
   "pygments_lexer": "ipython3",
   "version": "3.12.2"
  },
  "prev_pub_hash": "df966eca7523e1c75fe118794d9cc9bcf263ed675dca200bd9d85b98373db432"
 },
 "nbformat": 4,
 "nbformat_minor": 4
}
